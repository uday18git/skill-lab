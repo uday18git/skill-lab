{
 "cells": [
  {
   "cell_type": "code",
   "execution_count": 3,
   "id": "0bfb1276",
   "metadata": {},
   "outputs": [],
   "source": [
    "from pyspark.sql import SparkSession\n",
    "from pyspark.sql.functions import *"
   ]
  },
  {
   "cell_type": "code",
   "execution_count": 4,
   "id": "3fc9da47",
   "metadata": {},
   "outputs": [],
   "source": [
    "import pandas as pd"
   ]
  },
  {
   "cell_type": "code",
   "execution_count": 5,
   "id": "a25fa937",
   "metadata": {
    "scrolled": true
   },
   "outputs": [
    {
     "name": "stdout",
     "output_type": "stream",
     "text": [
      "+--------------------+---------------+------+-----------------+--------------------+--------------------+--------------------+--------------------+---------+-----------+------+-----+-------+\n",
      "|           Job Title|Salary Estimate|Rating|         Location|                Size|   Type of ownership|            Industry|              Sector|job_state|company_age|python|spark|tableau|\n",
      "+--------------------+---------------+------+-----------------+--------------------+--------------------+--------------------+--------------------+---------+-----------+------+-----+-------+\n",
      "|   Sr Data Scientist|       137-171 |   3.1|     New York, NY|1001 to 5000 empl...|Nonprofit Organiz...|  Insurance Carriers|           Insurance|       NY|         27|     0|    0|      0|\n",
      "|      Data Scientist|       137-171 |   4.2|    Chantilly, VA|5001 to 10000 emp...|    Company - Public|Research & Develo...|   Business Services|       VA|         52|     0|    0|      0|\n",
      "|      Data Scientist|       137-171 |   3.8|       Boston, MA|1001 to 5000 empl...|Private Practice ...|          Consulting|   Business Services|       MA|         39|     1|    0|      0|\n",
      "|      Data Scientist|       137-171 |   3.5|       Newton, MA|501 to 1000 emplo...|    Company - Public|Electrical & Elec...|       Manufacturing|       MA|         20|     1|    0|      0|\n",
      "|      Data Scientist|       137-171 |   2.9|     New York, NY| 51 to 200 employees|   Company - Private|Advertising & Mar...|   Business Services|       NY|         22|     1|    0|      0|\n",
      "|      Data Scientist|       137-171 |   4.2|Santa Barbara, CA| 51 to 200 employees|   Company - Private|Computer Hardware...|Information Techn...|       CA|         10|     1|    1|      0|\n",
      "|Data Scientist / ...|       137-171 |   3.9|    Cambridge, MA|    10000+ employees|    Company - Public|Biotech & Pharmac...|Biotech & Pharmac...|       MA|         24|     1|    0|      0|\n",
      "|      Data Scientist|       137-171 |   3.5|      Bedford, MA|1001 to 5000 empl...|    Company - Public|Consumer Electron...|              Retail|       MA|         30|     1|    0|      0|\n",
      "|Staff Data Scient...|       137-171 |   4.4|    San Diego, CA|5001 to 10000 emp...|    Company - Public|Computer Hardware...|Information Techn...|       CA|         37|     0|    0|      0|\n",
      "|      Data Scientist|       137-171 |   3.6|      Chicago, IL| 51 to 200 employees|   Company - Private|Enterprise Softwa...|Information Techn...|       IL|          6|     1|    0|      0|\n",
      "|      Data Scientist|       137-171 |   4.5|      Herndon, VA|501 to 1000 emplo...|   Company - Private|Enterprise Softwa...|Information Techn...|       VA|          8|     1|    0|      0|\n",
      "|      Data Scientist|       137-171 |   4.7|  Saint Louis, MO| 51 to 200 employees|   Company - Private|         IT Services|Information Techn...|       MO|          4|     1|    1|      0|\n",
      "|Data Scientist - ...|       137-171 |   3.7|     Richland, WA|1001 to 5000 empl...|          Government|              Energy|Oil, Gas, Energy ...|       WA|         55|     0|    0|      0|\n",
      "|        Data Modeler|       137-171 |   3.1|   Northbrook, IL|201 to 500 employees|   Company - Private|Chemical Manufact...|       Manufacturing|       IL|         47|     1|    0|      1|\n",
      "|      Data Scientist|       137-171 |   3.4|   Washington, DC|1001 to 5000 empl...|   Company - Private|          Consulting|   Business Services|       DC|         34|     1|    0|      0|\n",
      "|Experienced Data ...|       137-171 |   4.4|   Washington, DC|   1 to 50 employees|   Company - Private|    Federal Agencies|          Government|       DC|         23|     1|    1|      1|\n",
      "|      Data Scientist|       137-171 |   3.5|      Memphis, TN|1001 to 5000 empl...|   Company - Private|Chemical Manufact...|       Manufacturing|       TN|         75|     1|    0|      0|\n",
      "|     Data Analyst II|       137-171 |   4.2|        Plano, TX|5001 to 10000 emp...|    Company - Public|Enterprise Softwa...|Information Techn...|       TX|         32|     0|    0|      0|\n",
      "|Medical Lab Scien...|       137-171 |   3.5|   West Grove, PA|5001 to 10000 emp...|Nonprofit Organiz...|Health Care Servi...|         Health Care|       PA|          3|     0|    0|      0|\n",
      "|      Data Scientist|       137-171 |   3.2|     New York, NY| 51 to 200 employees|   Company - Private|Computer Hardware...|Information Techn...|       NY|          5|     0|    0|      0|\n",
      "+--------------------+---------------+------+-----------------+--------------------+--------------------+--------------------+--------------------+---------+-----------+------+-----+-------+\n",
      "only showing top 20 rows\n",
      "\n",
      "root\n",
      " |-- Job Title: string (nullable = true)\n",
      " |-- Salary Estimate: string (nullable = true)\n",
      " |-- Rating: double (nullable = true)\n",
      " |-- Location: string (nullable = true)\n",
      " |-- Size: string (nullable = true)\n",
      " |-- Type of ownership: string (nullable = true)\n",
      " |-- Industry: string (nullable = true)\n",
      " |-- Sector: string (nullable = true)\n",
      " |-- job_state: string (nullable = true)\n",
      " |-- company_age: integer (nullable = true)\n",
      " |-- python: integer (nullable = true)\n",
      " |-- spark: integer (nullable = true)\n",
      " |-- tableau: integer (nullable = true)\n",
      "\n"
     ]
    }
   ],
   "source": [
    "spark = SparkSession.builder.appName(\"m1\").getOrCreate()\n",
    "filepath = \"Cleaned_DS_Jobs.csv\"\n",
    "df = spark.read.csv(filepath, header=True,inferSchema=True)\n",
    "df.show()\n",
    "df.printSchema()"
   ]
  },
  {
   "cell_type": "code",
   "execution_count": 6,
   "id": "a19b4ca2",
   "metadata": {},
   "outputs": [
    {
     "name": "stdout",
     "output_type": "stream",
     "text": [
      "+---------+---------------+------+--------+----+-----------------+--------+------+---------+-----------+------+-----+-------+\n",
      "|Job Title|Salary Estimate|Rating|Location|Size|Type of ownership|Industry|Sector|job_state|company_age|python|spark|tableau|\n",
      "+---------+---------------+------+--------+----+-----------------+--------+------+---------+-----------+------+-----+-------+\n",
      "|        0|              0|     0|       0|  27|               27|      71|    71|        0|          0|     0|    0|      0|\n",
      "+---------+---------------+------+--------+----+-----------------+--------+------+---------+-----------+------+-----+-------+\n",
      "\n",
      "+---------+---------------+------+--------+----+-----------------+--------+------+---------+-----------+------+-----+-------+\n",
      "|Job Title|Salary Estimate|Rating|Location|Size|Type of ownership|Industry|Sector|job_state|company_age|python|spark|tableau|\n",
      "+---------+---------------+------+--------+----+-----------------+--------+------+---------+-----------+------+-----+-------+\n",
      "|        0|              0|     0|       0|  27|               27|      71|    71|        0|          0|     0|    0|      0|\n",
      "+---------+---------------+------+--------+----+-----------------+--------+------+---------+-----------+------+-----+-------+\n",
      "\n"
     ]
    }
   ],
   "source": [
    "df.select([count(when(isnull(c) | isnan(c),c)).alias(c) for c in df.columns]).show()\n",
    "missing_values = df.select([count(when(isnull(c), c)).alias(c) for c in df.columns])\n",
    "missing_values.show()\n"
   ]
  },
  {
   "cell_type": "code",
   "execution_count": 7,
   "id": "f11f8a09",
   "metadata": {},
   "outputs": [],
   "source": [
    "# 1. Split the salary estimate column into two separate fields (min_salary, max_salary)\n",
    "# Assuming the salary column is named 'salary_estimate' and looks like \"min-max\"\n",
    "df = df.withColumn(\"min_salary\", split(col(\"Salary Estimate\"), \"-\")[0].cast(\"int\"))\n",
    "df = df.withColumn(\"max_salary\", split(col(\"Salary Estimate\"), \"-\")[1].cast(\"int\"))"
   ]
  },
  {
   "cell_type": "code",
   "execution_count": 8,
   "id": "6f3fb1df",
   "metadata": {},
   "outputs": [],
   "source": [
    "# df.show()"
   ]
  },
  {
   "cell_type": "code",
   "execution_count": 9,
   "id": "af4d33a2",
   "metadata": {},
   "outputs": [],
   "source": [
    "#2\n",
    "df = df.withColumn(\"average_salary\", (col(\"min_salary\") + col(\"max_salary\")) / 2)"
   ]
  },
  {
   "cell_type": "code",
   "execution_count": 10,
   "id": "95b0098d",
   "metadata": {},
   "outputs": [],
   "source": [
    "#3\n",
    "df = df.withColumn(\"rating\", when((col(\"rating\") == -1) | (col(\"rating\") == 0), 1).otherwise(col(\"rating\")))"
   ]
  },
  {
   "cell_type": "code",
   "execution_count": 11,
   "id": "8ba1ba97",
   "metadata": {},
   "outputs": [
    {
     "name": "stdout",
     "output_type": "stream",
     "text": [
      "+--------------------+---------------+------+-----------------+--------------------+--------------------+--------------------+--------------------+---------+-----------+------+-----+-------+----------+----------+--------------+\n",
      "|           Job Title|Salary Estimate|rating|         Location|                Size|   Type of ownership|            Industry|              Sector|job_state|company_age|python|spark|tableau|min_salary|max_salary|average_salary|\n",
      "+--------------------+---------------+------+-----------------+--------------------+--------------------+--------------------+--------------------+---------+-----------+------+-----+-------+----------+----------+--------------+\n",
      "|   Sr Data Scientist|       137-171 |   3.1|     New York, NY|1001 to 5000 empl...|Nonprofit Organiz...|  Insurance Carriers|           Insurance|       NY|         27|     0|    0|      0|       137|       171|         154.0|\n",
      "|      Data Scientist|       137-171 |   4.2|    Chantilly, VA|5001 to 10000 emp...|    Company - Public|Research & Develo...|   Business Services|       VA|         52|     0|    0|      0|       137|       171|         154.0|\n",
      "|      Data Scientist|       137-171 |   3.8|       Boston, MA|1001 to 5000 empl...|Private Practice ...|          Consulting|   Business Services|       MA|         39|     1|    0|      0|       137|       171|         154.0|\n",
      "|      Data Scientist|       137-171 |   3.5|       Newton, MA|501 to 1000 emplo...|    Company - Public|Electrical & Elec...|       Manufacturing|       MA|         20|     1|    0|      0|       137|       171|         154.0|\n",
      "|      Data Scientist|       137-171 |   2.9|     New York, NY| 51 to 200 employees|   Company - Private|Advertising & Mar...|   Business Services|       NY|         22|     1|    0|      0|       137|       171|         154.0|\n",
      "|      Data Scientist|       137-171 |   4.2|Santa Barbara, CA| 51 to 200 employees|   Company - Private|Computer Hardware...|Information Techn...|       CA|         10|     1|    1|      0|       137|       171|         154.0|\n",
      "|Data Scientist / ...|       137-171 |   3.9|    Cambridge, MA|    10000+ employees|    Company - Public|Biotech & Pharmac...|Biotech & Pharmac...|       MA|         24|     1|    0|      0|       137|       171|         154.0|\n",
      "|      Data Scientist|       137-171 |   3.5|      Bedford, MA|1001 to 5000 empl...|    Company - Public|Consumer Electron...|              Retail|       MA|         30|     1|    0|      0|       137|       171|         154.0|\n",
      "|Staff Data Scient...|       137-171 |   4.4|    San Diego, CA|5001 to 10000 emp...|    Company - Public|Computer Hardware...|Information Techn...|       CA|         37|     0|    0|      0|       137|       171|         154.0|\n",
      "|      Data Scientist|       137-171 |   3.6|      Chicago, IL| 51 to 200 employees|   Company - Private|Enterprise Softwa...|Information Techn...|       IL|          6|     1|    0|      0|       137|       171|         154.0|\n",
      "|      Data Scientist|       137-171 |   4.5|      Herndon, VA|501 to 1000 emplo...|   Company - Private|Enterprise Softwa...|Information Techn...|       VA|          8|     1|    0|      0|       137|       171|         154.0|\n",
      "|      Data Scientist|       137-171 |   4.7|  Saint Louis, MO| 51 to 200 employees|   Company - Private|         IT Services|Information Techn...|       MO|          4|     1|    1|      0|       137|       171|         154.0|\n",
      "|Data Scientist - ...|       137-171 |   3.7|     Richland, WA|1001 to 5000 empl...|          Government|              Energy|Oil, Gas, Energy ...|       WA|         55|     0|    0|      0|       137|       171|         154.0|\n",
      "|        Data Modeler|       137-171 |   3.1|   Northbrook, IL|201 to 500 employees|   Company - Private|Chemical Manufact...|       Manufacturing|       IL|         47|     1|    0|      1|       137|       171|         154.0|\n",
      "|      Data Scientist|       137-171 |   3.4|   Washington, DC|1001 to 5000 empl...|   Company - Private|          Consulting|   Business Services|       DC|         34|     1|    0|      0|       137|       171|         154.0|\n",
      "|Experienced Data ...|       137-171 |   4.4|   Washington, DC|   1 to 50 employees|   Company - Private|    Federal Agencies|          Government|       DC|         23|     1|    1|      1|       137|       171|         154.0|\n",
      "|      Data Scientist|       137-171 |   3.5|      Memphis, TN|1001 to 5000 empl...|   Company - Private|Chemical Manufact...|       Manufacturing|       TN|         75|     1|    0|      0|       137|       171|         154.0|\n",
      "|     Data Analyst II|       137-171 |   4.2|        Plano, TX|5001 to 10000 emp...|    Company - Public|Enterprise Softwa...|Information Techn...|       TX|         32|     0|    0|      0|       137|       171|         154.0|\n",
      "|Medical Lab Scien...|       137-171 |   3.5|   West Grove, PA|5001 to 10000 emp...|Nonprofit Organiz...|Health Care Servi...|         Health Care|       PA|          3|     0|    0|      0|       137|       171|         154.0|\n",
      "|      Data Scientist|       137-171 |   3.2|     New York, NY| 51 to 200 employees|   Company - Private|Computer Hardware...|Information Techn...|       NY|          5|     0|    0|      0|       137|       171|         154.0|\n",
      "+--------------------+---------------+------+-----------------+--------------------+--------------------+--------------------+--------------------+---------+-----------+------+-----+-------+----------+----------+--------------+\n",
      "only showing top 20 rows\n",
      "\n"
     ]
    }
   ],
   "source": [
    "df.show()"
   ]
  },
  {
   "cell_type": "code",
   "execution_count": 12,
   "id": "51ebd28b",
   "metadata": {},
   "outputs": [],
   "source": [
    "#4th\n",
    "for column in df.columns:\n",
    "    df = df.withColumn(column, when(col(column).isNull(), -1).otherwise(col(column)))"
   ]
  },
  {
   "cell_type": "code",
   "execution_count": 13,
   "id": "c9b7f866",
   "metadata": {},
   "outputs": [
    {
     "name": "stdout",
     "output_type": "stream",
     "text": [
      "+---------+---------------+------+--------+----+-----------------+--------+------+---------+-----------+------+-----+-------+----------+----------+--------------+\n",
      "|Job Title|Salary Estimate|rating|Location|Size|Type of ownership|Industry|Sector|job_state|company_age|python|spark|tableau|min_salary|max_salary|average_salary|\n",
      "+---------+---------------+------+--------+----+-----------------+--------+------+---------+-----------+------+-----+-------+----------+----------+--------------+\n",
      "|        0|              0|     0|       0|   0|                0|       0|     0|        0|          0|     0|    0|      0|         0|         0|             0|\n",
      "+---------+---------------+------+--------+----+-----------------+--------+------+---------+-----------+------+-----+-------+----------+----------+--------------+\n",
      "\n"
     ]
    }
   ],
   "source": [
    "df.select([count(when(isnull(c) | isnan(c),c)).alias(c) for c in df.columns]).show()\n",
    "\n"
   ]
  },
  {
   "cell_type": "code",
   "execution_count": 14,
   "id": "d11534ca",
   "metadata": {
    "scrolled": false
   },
   "outputs": [
    {
     "name": "stdout",
     "output_type": "stream",
     "text": [
      "root\n",
      " |-- Job Title: string (nullable = true)\n",
      " |-- Salary Estimate: string (nullable = true)\n",
      " |-- rating: double (nullable = true)\n",
      " |-- Location: string (nullable = true)\n",
      " |-- Size: string (nullable = true)\n",
      " |-- Type of ownership: string (nullable = true)\n",
      " |-- Industry: string (nullable = true)\n",
      " |-- Sector: string (nullable = true)\n",
      " |-- job_state: string (nullable = true)\n",
      " |-- company_age: integer (nullable = true)\n",
      " |-- python: integer (nullable = true)\n",
      " |-- spark: integer (nullable = true)\n",
      " |-- tableau: integer (nullable = true)\n",
      " |-- min_salary: integer (nullable = true)\n",
      " |-- max_salary: integer (nullable = true)\n",
      " |-- average_salary: double (nullable = true)\n",
      "\n"
     ]
    }
   ],
   "source": [
    "df.printSchema()"
   ]
  },
  {
   "cell_type": "code",
   "execution_count": 15,
   "id": "117daabe",
   "metadata": {
    "scrolled": true
   },
   "outputs": [
    {
     "name": "stdout",
     "output_type": "stream",
     "text": [
      "+--------------------+-------------------+\n",
      "|           Job Title|avg(average_salary)|\n",
      "+--------------------+-------------------+\n",
      "|Senior Data Scien...|  99.33333333333333|\n",
      "|Clinical Data Ana...|              164.5|\n",
      "|Senior Business I...|               90.0|\n",
      "|Data Analyst/Engi...|              115.5|\n",
      "|Staff BI and Data...|              107.0|\n",
      "|Intelligence Data...|              90.75|\n",
      "|Report Writer-Dat...|               92.5|\n",
      "|Hydrogen/Tritium ...|              148.0|\n",
      "|Business Intellig...|             109.25|\n",
      "|        Data Modeler|              154.0|\n",
      "|Scientist / Group...|              197.5|\n",
      "|Senior Research S...|              105.0|\n",
      "|Software Engineer...|              164.5|\n",
      "|   Sr Data Scientist|             126.75|\n",
      "|COMPUTER SCIENTIS...|              271.5|\n",
      "|Data Scientist/Ma...|              125.5|\n",
      "|Data Scientist - ...|              120.5|\n",
      "|  Decision Scientist|               94.5|\n",
      "|Data Scientist - ...|              97.75|\n",
      "|Data Scientist / ...|              128.5|\n",
      "+--------------------+-------------------+\n",
      "only showing top 20 rows\n",
      "\n"
     ]
    }
   ],
   "source": [
    "# #5th\n",
    "df1=df.groupBy('Job Title').agg(avg('average_salary'))\n",
    "df1.show()"
   ]
  },
  {
   "cell_type": "code",
   "execution_count": 16,
   "id": "672eaf8c",
   "metadata": {
    "scrolled": true
   },
   "outputs": [
    {
     "name": "stdout",
     "output_type": "stream",
     "text": [
      "+--------------------+---------------+------+-----------------+--------------------+--------------------+--------------------+---------+-----------+------+-----+-------+----------+----------+--------------+---------+\n",
      "|           Job Title|Salary Estimate|rating|         Location|   Type of ownership|            Industry|              Sector|job_state|company_age|python|spark|tableau|min_salary|max_salary|average_salary|SizeValue|\n",
      "+--------------------+---------------+------+-----------------+--------------------+--------------------+--------------------+---------+-----------+------+-----+-------+----------+----------+--------------+---------+\n",
      "|   Sr Data Scientist|       137-171 |   3.1|     New York, NY|Nonprofit Organiz...|  Insurance Carriers|           Insurance|       NY|         27|     0|    0|      0|       137|       171|         154.0|    Large|\n",
      "|      Data Scientist|       137-171 |   4.2|    Chantilly, VA|    Company - Public|Research & Develo...|   Business Services|       VA|         52|     0|    0|      0|       137|       171|         154.0|    Small|\n",
      "|      Data Scientist|       137-171 |   3.8|       Boston, MA|Private Practice ...|          Consulting|   Business Services|       MA|         39|     1|    0|      0|       137|       171|         154.0|    Large|\n",
      "|      Data Scientist|       137-171 |   3.5|       Newton, MA|    Company - Public|Electrical & Elec...|       Manufacturing|       MA|         20|     1|    0|      0|       137|       171|         154.0|    Small|\n",
      "|      Data Scientist|       137-171 |   2.9|     New York, NY|   Company - Private|Advertising & Mar...|   Business Services|       NY|         22|     1|    0|      0|       137|       171|         154.0|    Large|\n",
      "|      Data Scientist|       137-171 |   4.2|Santa Barbara, CA|   Company - Private|Computer Hardware...|Information Techn...|       CA|         10|     1|    1|      0|       137|       171|         154.0|    Small|\n",
      "|Data Scientist / ...|       137-171 |   3.9|    Cambridge, MA|    Company - Public|Biotech & Pharmac...|Biotech & Pharmac...|       MA|         24|     1|    0|      0|       137|       171|         154.0|   Medium|\n",
      "|      Data Scientist|       137-171 |   3.5|      Bedford, MA|    Company - Public|Consumer Electron...|              Retail|       MA|         30|     1|    0|      0|       137|       171|         154.0|    Small|\n",
      "|Staff Data Scient...|       137-171 |   4.4|    San Diego, CA|    Company - Public|Computer Hardware...|Information Techn...|       CA|         37|     0|    0|      0|       137|       171|         154.0|    Small|\n",
      "|      Data Scientist|       137-171 |   3.6|      Chicago, IL|   Company - Private|Enterprise Softwa...|Information Techn...|       IL|          6|     1|    0|      0|       137|       171|         154.0|    Large|\n",
      "|      Data Scientist|       137-171 |   4.5|      Herndon, VA|   Company - Private|Enterprise Softwa...|Information Techn...|       VA|          8|     1|    0|      0|       137|       171|         154.0|    Large|\n",
      "|      Data Scientist|       137-171 |   4.7|  Saint Louis, MO|   Company - Private|         IT Services|Information Techn...|       MO|          4|     1|    1|      0|       137|       171|         154.0|    Large|\n",
      "|Data Scientist - ...|       137-171 |   3.7|     Richland, WA|          Government|              Energy|Oil, Gas, Energy ...|       WA|         55|     0|    0|      0|       137|       171|         154.0|    Large|\n",
      "|        Data Modeler|       137-171 |   3.1|   Northbrook, IL|   Company - Private|Chemical Manufact...|       Manufacturing|       IL|         47|     1|    0|      1|       137|       171|         154.0|   Medium|\n",
      "|      Data Scientist|       137-171 |   3.4|   Washington, DC|   Company - Private|          Consulting|   Business Services|       DC|         34|     1|    0|      0|       137|       171|         154.0|    Large|\n",
      "|Experienced Data ...|       137-171 |   4.4|   Washington, DC|   Company - Private|    Federal Agencies|          Government|       DC|         23|     1|    1|      1|       137|       171|         154.0|    Large|\n",
      "|      Data Scientist|       137-171 |   3.5|      Memphis, TN|   Company - Private|Chemical Manufact...|       Manufacturing|       TN|         75|     1|    0|      0|       137|       171|         154.0|    Small|\n",
      "|     Data Analyst II|       137-171 |   4.2|        Plano, TX|    Company - Public|Enterprise Softwa...|Information Techn...|       TX|         32|     0|    0|      0|       137|       171|         154.0|    Small|\n",
      "|Medical Lab Scien...|       137-171 |   3.5|   West Grove, PA|Nonprofit Organiz...|Health Care Servi...|         Health Care|       PA|          3|     0|    0|      0|       137|       171|         154.0|    Large|\n",
      "|      Data Scientist|       137-171 |   3.2|     New York, NY|   Company - Private|Computer Hardware...|Information Techn...|       NY|          5|     0|    0|      0|       137|       171|         154.0|    Small|\n",
      "+--------------------+---------------+------+-----------------+--------------------+--------------------+--------------------+---------+-----------+------+-----+-------+----------+----------+--------------+---------+\n",
      "only showing top 20 rows\n",
      "\n"
     ]
    }
   ],
   "source": [
    "#6th\n",
    "from pyspark.sql.functions import udf\n",
    "from pyspark.sql.types import StringType\n",
    "import random\n",
    "values = [\"Small\", \"Medium\", \"Large\"]\n",
    "\n",
    "def assign():\n",
    "    return random.choice(values)\n",
    "\n",
    "my_udf = udf(assign, StringType())\n",
    "df = df.withColumn(\"SizeValue\", my_udf())\n",
    "df = df.drop(\"Size\")\n",
    "\n",
    "df.show()"
   ]
  },
  {
   "cell_type": "code",
   "execution_count": 17,
   "id": "47f84fa9",
   "metadata": {},
   "outputs": [
    {
     "name": "stdout",
     "output_type": "stream",
     "text": [
      "+---------+-------------------+\n",
      "|SizeValue|avg(average_salary)|\n",
      "+---------+-------------------+\n",
      "|   Medium| 122.40375586854461|\n",
      "|    Small| 124.71615720524018|\n",
      "|    Large| 124.19954128440367|\n",
      "+---------+-------------------+\n",
      "\n"
     ]
    }
   ],
   "source": [
    "df1=df.groupBy('SizeValue').agg(avg('average_salary'))\n",
    "df1.show()"
   ]
  },
  {
   "cell_type": "code",
   "execution_count": 18,
   "id": "6a402556",
   "metadata": {},
   "outputs": [],
   "source": [
    "pandas_df = df.toPandas()\n",
    "pandas_df.to_csv(filepath, index=False)"
   ]
  },
  {
   "cell_type": "code",
   "execution_count": 19,
   "id": "9d51c6af",
   "metadata": {},
   "outputs": [],
   "source": [
    "# pandas_df.isnull().sum()"
   ]
  },
  {
   "cell_type": "code",
   "execution_count": 20,
   "id": "e5628c1e",
   "metadata": {},
   "outputs": [
    {
     "name": "stdout",
     "output_type": "stream",
     "text": [
      "+--------------------+---------------+------+-----------------+--------------------+--------------------+------+---------+-----------+------+-----+-------+----------+----------+--------------+---------+\n",
      "|           Job Title|Salary Estimate|rating|         Location|   Type of ownership|            Industry|Sector|job_state|company_age|python|spark|tableau|min_salary|max_salary|average_salary|SizeValue|\n",
      "+--------------------+---------------+------+-----------------+--------------------+--------------------+------+---------+-----------+------+-----+-------+----------+----------+--------------+---------+\n",
      "|   Sr Data Scientist|       137-171 |   3.1|     New York, NY|  Insurance Carriers|           Insurance|    NY|       27|          0|     0|    0|    137|       137|       171|         154.0|    Small|\n",
      "|      Data Scientist|       137-171 |   4.2|    Chantilly, VA|Research & Develo...|   Business Services|    VA|       52|          0|     0|    0|    137|       137|       171|         154.0|   Medium|\n",
      "|      Data Scientist|       137-171 |   3.8|       Boston, MA|          Consulting|   Business Services|    MA|       39|          1|     0|    0|    137|       137|       171|         154.0|    Small|\n",
      "|      Data Scientist|       137-171 |   3.5|       Newton, MA|Electrical & Elec...|       Manufacturing|    MA|       20|          1|     0|    0|    137|       137|       171|         154.0|   Medium|\n",
      "|      Data Scientist|       137-171 |   2.9|     New York, NY|Advertising & Mar...|   Business Services|    NY|       22|          1|     0|    0|    137|       137|       171|         154.0|    Small|\n",
      "|      Data Scientist|       137-171 |   4.2|Santa Barbara, CA|Computer Hardware...|Information Techn...|    CA|       10|          1|     1|    0|    137|       137|       171|         154.0|    Large|\n",
      "|Data Scientist / ...|       137-171 |   3.9|    Cambridge, MA|Biotech & Pharmac...|Biotech & Pharmac...|    MA|       24|          1|     0|    0|    137|       137|       171|         154.0|    Large|\n",
      "|      Data Scientist|       137-171 |   3.5|      Bedford, MA|Consumer Electron...|              Retail|    MA|       30|          1|     0|    0|    137|       137|       171|         154.0|    Large|\n",
      "|Staff Data Scient...|       137-171 |   4.4|    San Diego, CA|Computer Hardware...|Information Techn...|    CA|       37|          0|     0|    0|    137|       137|       171|         154.0|    Small|\n",
      "|      Data Scientist|       137-171 |   3.6|      Chicago, IL|Enterprise Softwa...|Information Techn...|    IL|        6|          1|     0|    0|    137|       137|       171|         154.0|    Small|\n",
      "|      Data Scientist|       137-171 |   4.5|      Herndon, VA|Enterprise Softwa...|Information Techn...|    VA|        8|          1|     0|    0|    137|       137|       171|         154.0|    Large|\n",
      "|      Data Scientist|       137-171 |   4.7|  Saint Louis, MO|         IT Services|Information Techn...|    MO|        4|          1|     1|    0|    137|       137|       171|         154.0|    Large|\n",
      "|Data Scientist - ...|       137-171 |   3.7|     Richland, WA|              Energy|Oil, Gas, Energy ...|    WA|       55|          0|     0|    0|    137|       137|       171|         154.0|    Large|\n",
      "|        Data Modeler|       137-171 |   3.1|   Northbrook, IL|Chemical Manufact...|       Manufacturing|    IL|       47|          1|     0|    1|    137|       137|       171|         154.0|    Large|\n",
      "|      Data Scientist|       137-171 |   3.4|   Washington, DC|          Consulting|   Business Services|    DC|       34|          1|     0|    0|    137|       137|       171|         154.0|   Medium|\n",
      "|Experienced Data ...|       137-171 |   4.4|   Washington, DC|    Federal Agencies|          Government|    DC|       23|          1|     1|    1|    137|       137|       171|         154.0|    Large|\n",
      "|      Data Scientist|       137-171 |   3.5|      Memphis, TN|Chemical Manufact...|       Manufacturing|    TN|       75|          1|     0|    0|    137|       137|       171|         154.0|    Large|\n",
      "|     Data Analyst II|       137-171 |   4.2|        Plano, TX|Enterprise Softwa...|Information Techn...|    TX|       32|          0|     0|    0|    137|       137|       171|         154.0|   Medium|\n",
      "|Medical Lab Scien...|       137-171 |   3.5|   West Grove, PA|Health Care Servi...|         Health Care|    PA|        3|          0|     0|    0|    137|       137|       171|         154.0|    Large|\n",
      "|      Data Scientist|       137-171 |   3.2|     New York, NY|Computer Hardware...|Information Techn...|    NY|        5|          0|     0|    0|    137|       137|       171|         154.0|   Medium|\n",
      "+--------------------+---------------+------+-----------------+--------------------+--------------------+------+---------+-----------+------+-----+-------+----------+----------+--------------+---------+\n",
      "only showing top 20 rows\n",
      "\n"
     ]
    }
   ],
   "source": [
    "df.show()"
   ]
  },
  {
   "cell_type": "code",
   "execution_count": null,
   "id": "0757138a",
   "metadata": {},
   "outputs": [],
   "source": []
  }
 ],
 "metadata": {
  "kernelspec": {
   "display_name": "gpu",
   "language": "python",
   "name": "gpu"
  },
  "language_info": {
   "codemirror_mode": {
    "name": "ipython",
    "version": 3
   },
   "file_extension": ".py",
   "mimetype": "text/x-python",
   "name": "python",
   "nbconvert_exporter": "python",
   "pygments_lexer": "ipython3",
   "version": "3.9.16"
  }
 },
 "nbformat": 4,
 "nbformat_minor": 5
}
