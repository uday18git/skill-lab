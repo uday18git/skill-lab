{
 "cells": [
  {
   "cell_type": "code",
   "execution_count": 2,
   "id": "0bfb1276",
   "metadata": {},
   "outputs": [],
   "source": [
    "from pyspark.sql import SparkSession\n",
    "from pyspark.sql.functions import *"
   ]
  },
  {
   "cell_type": "code",
   "execution_count": 3,
   "id": "3fc9da47",
   "metadata": {},
   "outputs": [],
   "source": [
    "import pandas as pd"
   ]
  },
  {
   "cell_type": "code",
   "execution_count": 4,
   "id": "a25fa937",
   "metadata": {},
   "outputs": [
    {
     "name": "stdout",
     "output_type": "stream",
     "text": [
      "+--------------------+---------------+------+-----------------+--------------------+--------------------+--------------------+--------------------+---------+-----------+------+-----+-------+\n",
      "|           Job Title|Salary Estimate|Rating|         Location|                Size|   Type of ownership|            Industry|              Sector|job_state|company_age|python|spark|tableau|\n",
      "+--------------------+---------------+------+-----------------+--------------------+--------------------+--------------------+--------------------+---------+-----------+------+-----+-------+\n",
      "|   Sr Data Scientist|       137-171 |   3.1|     New York, NY|1001 to 5000 empl...|Nonprofit Organiz...|  Insurance Carriers|           Insurance|       NY|         27|     0|    0|      0|\n",
      "|      Data Scientist|       137-171 |   4.2|    Chantilly, VA|5001 to 10000 emp...|    Company - Public|Research & Develo...|   Business Services|       VA|         52|     0|    0|      0|\n",
      "|      Data Scientist|       137-171 |   3.8|       Boston, MA|1001 to 5000 empl...|Private Practice ...|          Consulting|   Business Services|       MA|         39|     1|    0|      0|\n",
      "|      Data Scientist|       137-171 |   3.5|       Newton, MA|501 to 1000 emplo...|    Company - Public|Electrical & Elec...|       Manufacturing|       MA|         20|     1|    0|      0|\n",
      "|      Data Scientist|       137-171 |   2.9|     New York, NY| 51 to 200 employees|   Company - Private|Advertising & Mar...|   Business Services|       NY|         22|     1|    0|      0|\n",
      "|      Data Scientist|       137-171 |   4.2|Santa Barbara, CA| 51 to 200 employees|   Company - Private|Computer Hardware...|Information Techn...|       CA|         10|     1|    1|      0|\n",
      "|Data Scientist / ...|       137-171 |   3.9|    Cambridge, MA|    10000+ employees|    Company - Public|Biotech & Pharmac...|Biotech & Pharmac...|       MA|         24|     1|    0|      0|\n",
      "|      Data Scientist|       137-171 |   3.5|      Bedford, MA|1001 to 5000 empl...|    Company - Public|Consumer Electron...|              Retail|       MA|         30|     1|    0|      0|\n",
      "|Staff Data Scient...|       137-171 |   4.4|    San Diego, CA|5001 to 10000 emp...|    Company - Public|Computer Hardware...|Information Techn...|       CA|         37|     0|    0|      0|\n",
      "|      Data Scientist|       137-171 |   3.6|      Chicago, IL| 51 to 200 employees|   Company - Private|Enterprise Softwa...|Information Techn...|       IL|          6|     1|    0|      0|\n",
      "|      Data Scientist|       137-171 |   4.5|      Herndon, VA|501 to 1000 emplo...|   Company - Private|Enterprise Softwa...|Information Techn...|       VA|          8|     1|    0|      0|\n",
      "|      Data Scientist|       137-171 |   4.7|  Saint Louis, MO| 51 to 200 employees|   Company - Private|         IT Services|Information Techn...|       MO|          4|     1|    1|      0|\n",
      "|Data Scientist - ...|       137-171 |   3.7|     Richland, WA|1001 to 5000 empl...|          Government|              Energy|Oil, Gas, Energy ...|       WA|         55|     0|    0|      0|\n",
      "|        Data Modeler|       137-171 |   3.1|   Northbrook, IL|201 to 500 employees|   Company - Private|Chemical Manufact...|       Manufacturing|       IL|         47|     1|    0|      1|\n",
      "|      Data Scientist|       137-171 |   3.4|   Washington, DC|1001 to 5000 empl...|   Company - Private|          Consulting|   Business Services|       DC|         34|     1|    0|      0|\n",
      "|Experienced Data ...|       137-171 |   4.4|   Washington, DC|   1 to 50 employees|   Company - Private|    Federal Agencies|          Government|       DC|         23|     1|    1|      1|\n",
      "|      Data Scientist|       137-171 |   3.5|      Memphis, TN|1001 to 5000 empl...|   Company - Private|Chemical Manufact...|       Manufacturing|       TN|         75|     1|    0|      0|\n",
      "|     Data Analyst II|       137-171 |   4.2|        Plano, TX|5001 to 10000 emp...|    Company - Public|Enterprise Softwa...|Information Techn...|       TX|         32|     0|    0|      0|\n",
      "|Medical Lab Scien...|       137-171 |   3.5|   West Grove, PA|5001 to 10000 emp...|Nonprofit Organiz...|Health Care Servi...|         Health Care|       PA|          3|     0|    0|      0|\n",
      "|      Data Scientist|       137-171 |   3.2|     New York, NY| 51 to 200 employees|   Company - Private|Computer Hardware...|Information Techn...|       NY|          5|     0|    0|      0|\n",
      "+--------------------+---------------+------+-----------------+--------------------+--------------------+--------------------+--------------------+---------+-----------+------+-----+-------+\n",
      "only showing top 20 rows\n",
      "\n",
      "root\n",
      " |-- Job Title: string (nullable = true)\n",
      " |-- Salary Estimate: string (nullable = true)\n",
      " |-- Rating: double (nullable = true)\n",
      " |-- Location: string (nullable = true)\n",
      " |-- Size: string (nullable = true)\n",
      " |-- Type of ownership: string (nullable = true)\n",
      " |-- Industry: string (nullable = true)\n",
      " |-- Sector: string (nullable = true)\n",
      " |-- job_state: string (nullable = true)\n",
      " |-- company_age: integer (nullable = true)\n",
      " |-- python: integer (nullable = true)\n",
      " |-- spark: integer (nullable = true)\n",
      " |-- tableau: integer (nullable = true)\n",
      "\n"
     ]
    }
   ],
   "source": [
    "spark = SparkSession.builder.appName(\"mg\").getOrCreate()\n",
    "filepath = \"Cleaned_DS_Jobs.csv\"\n",
    "df = spark.read.csv(filepath, header=True,inferSchema=True)\n",
    "df.show()\n",
    "df.printSchema()"
   ]
  },
  {
   "cell_type": "code",
   "execution_count": 9,
   "id": "a19b4ca2",
   "metadata": {},
   "outputs": [
    {
     "name": "stdout",
     "output_type": "stream",
     "text": [
      "+---------+---------------+------+--------+----+-----------------+--------+------+---------+-----------+------+-----+-------+\n",
      "|Job Title|Salary Estimate|Rating|Location|Size|Type of ownership|Industry|Sector|job_state|company_age|python|spark|tableau|\n",
      "+---------+---------------+------+--------+----+-----------------+--------+------+---------+-----------+------+-----+-------+\n",
      "|        0|              0|     0|       0|  27|               27|      71|    71|        0|          0|     0|    0|      0|\n",
      "+---------+---------------+------+--------+----+-----------------+--------+------+---------+-----------+------+-----+-------+\n",
      "\n",
      "+---------+---------------+------+--------+----+-----------------+--------+------+---------+-----------+------+-----+-------+\n",
      "|Job Title|Salary Estimate|Rating|Location|Size|Type of ownership|Industry|Sector|job_state|company_age|python|spark|tableau|\n",
      "+---------+---------------+------+--------+----+-----------------+--------+------+---------+-----------+------+-----+-------+\n",
      "|        0|              0|     0|       0|  27|               27|      71|    71|        0|          0|     0|    0|      0|\n",
      "+---------+---------------+------+--------+----+-----------------+--------+------+---------+-----------+------+-----+-------+\n",
      "\n"
     ]
    }
   ],
   "source": [
    "df.select([count(when(isnull(c) | isnan(c),c)).alias(c) for c in df.columns]).show()\n",
    "missing_values = df.select([count(when(isnull(c), c)).alias(c) for c in df.columns])\n",
    "missing_values.show()\n"
   ]
  },
  {
   "cell_type": "code",
   "execution_count": 11,
   "id": "f11f8a09",
   "metadata": {},
   "outputs": [],
   "source": [
    "# 1. Split the salary estimate column into two separate fields (min_salary, max_salary)\n",
    "# Assuming the salary column is named 'salary_estimate' and looks like \"min-max\"\n",
    "df = df.withColumn(\"min_salary\", split(col(\"Salary Estimate\"), \"-\")[0].cast(\"int\"))\n",
    "df = df.withColumn(\"max_salary\", split(col(\"Salary Estimate\"), \"-\")[1].cast(\"int\"))"
   ]
  },
  {
   "cell_type": "code",
   "execution_count": 12,
   "id": "6f3fb1df",
   "metadata": {},
   "outputs": [
    {
     "name": "stdout",
     "output_type": "stream",
     "text": [
      "+--------------------+---------------+------+-----------------+--------------------+--------------------+--------------------+--------------------+---------+-----------+------+-----+-------+----------+----------+\n",
      "|           Job Title|Salary Estimate|Rating|         Location|                Size|   Type of ownership|            Industry|              Sector|job_state|company_age|python|spark|tableau|min_salary|max_salary|\n",
      "+--------------------+---------------+------+-----------------+--------------------+--------------------+--------------------+--------------------+---------+-----------+------+-----+-------+----------+----------+\n",
      "|   Sr Data Scientist|       137-171 |   3.1|     New York, NY|1001 to 5000 empl...|Nonprofit Organiz...|  Insurance Carriers|           Insurance|       NY|         27|     0|    0|      0|       137|       171|\n",
      "|      Data Scientist|       137-171 |   4.2|    Chantilly, VA|5001 to 10000 emp...|    Company - Public|Research & Develo...|   Business Services|       VA|         52|     0|    0|      0|       137|       171|\n",
      "|      Data Scientist|       137-171 |   3.8|       Boston, MA|1001 to 5000 empl...|Private Practice ...|          Consulting|   Business Services|       MA|         39|     1|    0|      0|       137|       171|\n",
      "|      Data Scientist|       137-171 |   3.5|       Newton, MA|501 to 1000 emplo...|    Company - Public|Electrical & Elec...|       Manufacturing|       MA|         20|     1|    0|      0|       137|       171|\n",
      "|      Data Scientist|       137-171 |   2.9|     New York, NY| 51 to 200 employees|   Company - Private|Advertising & Mar...|   Business Services|       NY|         22|     1|    0|      0|       137|       171|\n",
      "|      Data Scientist|       137-171 |   4.2|Santa Barbara, CA| 51 to 200 employees|   Company - Private|Computer Hardware...|Information Techn...|       CA|         10|     1|    1|      0|       137|       171|\n",
      "|Data Scientist / ...|       137-171 |   3.9|    Cambridge, MA|    10000+ employees|    Company - Public|Biotech & Pharmac...|Biotech & Pharmac...|       MA|         24|     1|    0|      0|       137|       171|\n",
      "|      Data Scientist|       137-171 |   3.5|      Bedford, MA|1001 to 5000 empl...|    Company - Public|Consumer Electron...|              Retail|       MA|         30|     1|    0|      0|       137|       171|\n",
      "|Staff Data Scient...|       137-171 |   4.4|    San Diego, CA|5001 to 10000 emp...|    Company - Public|Computer Hardware...|Information Techn...|       CA|         37|     0|    0|      0|       137|       171|\n",
      "|      Data Scientist|       137-171 |   3.6|      Chicago, IL| 51 to 200 employees|   Company - Private|Enterprise Softwa...|Information Techn...|       IL|          6|     1|    0|      0|       137|       171|\n",
      "|      Data Scientist|       137-171 |   4.5|      Herndon, VA|501 to 1000 emplo...|   Company - Private|Enterprise Softwa...|Information Techn...|       VA|          8|     1|    0|      0|       137|       171|\n",
      "|      Data Scientist|       137-171 |   4.7|  Saint Louis, MO| 51 to 200 employees|   Company - Private|         IT Services|Information Techn...|       MO|          4|     1|    1|      0|       137|       171|\n",
      "|Data Scientist - ...|       137-171 |   3.7|     Richland, WA|1001 to 5000 empl...|          Government|              Energy|Oil, Gas, Energy ...|       WA|         55|     0|    0|      0|       137|       171|\n",
      "|        Data Modeler|       137-171 |   3.1|   Northbrook, IL|201 to 500 employees|   Company - Private|Chemical Manufact...|       Manufacturing|       IL|         47|     1|    0|      1|       137|       171|\n",
      "|      Data Scientist|       137-171 |   3.4|   Washington, DC|1001 to 5000 empl...|   Company - Private|          Consulting|   Business Services|       DC|         34|     1|    0|      0|       137|       171|\n",
      "|Experienced Data ...|       137-171 |   4.4|   Washington, DC|   1 to 50 employees|   Company - Private|    Federal Agencies|          Government|       DC|         23|     1|    1|      1|       137|       171|\n",
      "|      Data Scientist|       137-171 |   3.5|      Memphis, TN|1001 to 5000 empl...|   Company - Private|Chemical Manufact...|       Manufacturing|       TN|         75|     1|    0|      0|       137|       171|\n",
      "|     Data Analyst II|       137-171 |   4.2|        Plano, TX|5001 to 10000 emp...|    Company - Public|Enterprise Softwa...|Information Techn...|       TX|         32|     0|    0|      0|       137|       171|\n",
      "|Medical Lab Scien...|       137-171 |   3.5|   West Grove, PA|5001 to 10000 emp...|Nonprofit Organiz...|Health Care Servi...|         Health Care|       PA|          3|     0|    0|      0|       137|       171|\n",
      "|      Data Scientist|       137-171 |   3.2|     New York, NY| 51 to 200 employees|   Company - Private|Computer Hardware...|Information Techn...|       NY|          5|     0|    0|      0|       137|       171|\n",
      "+--------------------+---------------+------+-----------------+--------------------+--------------------+--------------------+--------------------+---------+-----------+------+-----+-------+----------+----------+\n",
      "only showing top 20 rows\n",
      "\n"
     ]
    }
   ],
   "source": [
    "df.show()"
   ]
  },
  {
   "cell_type": "code",
   "execution_count": 13,
   "id": "af4d33a2",
   "metadata": {},
   "outputs": [],
   "source": [
    "#2\n",
    "df = df.withColumn(\"average_salary\", (col(\"min_salary\") + col(\"max_salary\")) / 2)"
   ]
  },
  {
   "cell_type": "code",
   "execution_count": 14,
   "id": "95b0098d",
   "metadata": {},
   "outputs": [],
   "source": [
    "#3\n",
    "df = df.withColumn(\"rating\", when((col(\"rating\") == -1) | (col(\"rating\") == 0), 1).otherwise(col(\"rating\")))"
   ]
  },
  {
   "cell_type": "code",
   "execution_count": 15,
   "id": "8ba1ba97",
   "metadata": {},
   "outputs": [
    {
     "name": "stdout",
     "output_type": "stream",
     "text": [
      "+--------------------+---------------+------+-----------------+--------------------+--------------------+--------------------+--------------------+---------+-----------+------+-----+-------+----------+----------+--------------+\n",
      "|           Job Title|Salary Estimate|rating|         Location|                Size|   Type of ownership|            Industry|              Sector|job_state|company_age|python|spark|tableau|min_salary|max_salary|average_salary|\n",
      "+--------------------+---------------+------+-----------------+--------------------+--------------------+--------------------+--------------------+---------+-----------+------+-----+-------+----------+----------+--------------+\n",
      "|   Sr Data Scientist|       137-171 |   3.1|     New York, NY|1001 to 5000 empl...|Nonprofit Organiz...|  Insurance Carriers|           Insurance|       NY|         27|     0|    0|      0|       137|       171|         154.0|\n",
      "|      Data Scientist|       137-171 |   4.2|    Chantilly, VA|5001 to 10000 emp...|    Company - Public|Research & Develo...|   Business Services|       VA|         52|     0|    0|      0|       137|       171|         154.0|\n",
      "|      Data Scientist|       137-171 |   3.8|       Boston, MA|1001 to 5000 empl...|Private Practice ...|          Consulting|   Business Services|       MA|         39|     1|    0|      0|       137|       171|         154.0|\n",
      "|      Data Scientist|       137-171 |   3.5|       Newton, MA|501 to 1000 emplo...|    Company - Public|Electrical & Elec...|       Manufacturing|       MA|         20|     1|    0|      0|       137|       171|         154.0|\n",
      "|      Data Scientist|       137-171 |   2.9|     New York, NY| 51 to 200 employees|   Company - Private|Advertising & Mar...|   Business Services|       NY|         22|     1|    0|      0|       137|       171|         154.0|\n",
      "|      Data Scientist|       137-171 |   4.2|Santa Barbara, CA| 51 to 200 employees|   Company - Private|Computer Hardware...|Information Techn...|       CA|         10|     1|    1|      0|       137|       171|         154.0|\n",
      "|Data Scientist / ...|       137-171 |   3.9|    Cambridge, MA|    10000+ employees|    Company - Public|Biotech & Pharmac...|Biotech & Pharmac...|       MA|         24|     1|    0|      0|       137|       171|         154.0|\n",
      "|      Data Scientist|       137-171 |   3.5|      Bedford, MA|1001 to 5000 empl...|    Company - Public|Consumer Electron...|              Retail|       MA|         30|     1|    0|      0|       137|       171|         154.0|\n",
      "|Staff Data Scient...|       137-171 |   4.4|    San Diego, CA|5001 to 10000 emp...|    Company - Public|Computer Hardware...|Information Techn...|       CA|         37|     0|    0|      0|       137|       171|         154.0|\n",
      "|      Data Scientist|       137-171 |   3.6|      Chicago, IL| 51 to 200 employees|   Company - Private|Enterprise Softwa...|Information Techn...|       IL|          6|     1|    0|      0|       137|       171|         154.0|\n",
      "|      Data Scientist|       137-171 |   4.5|      Herndon, VA|501 to 1000 emplo...|   Company - Private|Enterprise Softwa...|Information Techn...|       VA|          8|     1|    0|      0|       137|       171|         154.0|\n",
      "|      Data Scientist|       137-171 |   4.7|  Saint Louis, MO| 51 to 200 employees|   Company - Private|         IT Services|Information Techn...|       MO|          4|     1|    1|      0|       137|       171|         154.0|\n",
      "|Data Scientist - ...|       137-171 |   3.7|     Richland, WA|1001 to 5000 empl...|          Government|              Energy|Oil, Gas, Energy ...|       WA|         55|     0|    0|      0|       137|       171|         154.0|\n",
      "|        Data Modeler|       137-171 |   3.1|   Northbrook, IL|201 to 500 employees|   Company - Private|Chemical Manufact...|       Manufacturing|       IL|         47|     1|    0|      1|       137|       171|         154.0|\n",
      "|      Data Scientist|       137-171 |   3.4|   Washington, DC|1001 to 5000 empl...|   Company - Private|          Consulting|   Business Services|       DC|         34|     1|    0|      0|       137|       171|         154.0|\n",
      "|Experienced Data ...|       137-171 |   4.4|   Washington, DC|   1 to 50 employees|   Company - Private|    Federal Agencies|          Government|       DC|         23|     1|    1|      1|       137|       171|         154.0|\n",
      "|      Data Scientist|       137-171 |   3.5|      Memphis, TN|1001 to 5000 empl...|   Company - Private|Chemical Manufact...|       Manufacturing|       TN|         75|     1|    0|      0|       137|       171|         154.0|\n",
      "|     Data Analyst II|       137-171 |   4.2|        Plano, TX|5001 to 10000 emp...|    Company - Public|Enterprise Softwa...|Information Techn...|       TX|         32|     0|    0|      0|       137|       171|         154.0|\n",
      "|Medical Lab Scien...|       137-171 |   3.5|   West Grove, PA|5001 to 10000 emp...|Nonprofit Organiz...|Health Care Servi...|         Health Care|       PA|          3|     0|    0|      0|       137|       171|         154.0|\n",
      "|      Data Scientist|       137-171 |   3.2|     New York, NY| 51 to 200 employees|   Company - Private|Computer Hardware...|Information Techn...|       NY|          5|     0|    0|      0|       137|       171|         154.0|\n",
      "+--------------------+---------------+------+-----------------+--------------------+--------------------+--------------------+--------------------+---------+-----------+------+-----+-------+----------+----------+--------------+\n",
      "only showing top 20 rows\n",
      "\n"
     ]
    }
   ],
   "source": [
    "df.show()"
   ]
  },
  {
   "cell_type": "code",
   "execution_count": 16,
   "id": "51ebd28b",
   "metadata": {},
   "outputs": [],
   "source": [
    "null_columns = [col_name for col_name in df.columns if df.filter(col(col_name).isNull()).count() > 0]\n",
    "for column in null_columns:\n",
    "    df = df.withColumn(column, when(col(column).isNull(), -1).otherwise(col(column)))"
   ]
  },
  {
   "cell_type": "code",
   "execution_count": 17,
   "id": "c9b7f866",
   "metadata": {},
   "outputs": [
    {
     "name": "stdout",
     "output_type": "stream",
     "text": [
      "+---------+---------------+------+--------+----+-----------------+--------+------+---------+-----------+------+-----+-------+----------+----------+--------------+\n",
      "|Job Title|Salary Estimate|rating|Location|Size|Type of ownership|Industry|Sector|job_state|company_age|python|spark|tableau|min_salary|max_salary|average_salary|\n",
      "+---------+---------------+------+--------+----+-----------------+--------+------+---------+-----------+------+-----+-------+----------+----------+--------------+\n",
      "|        0|              0|     0|       0|   0|                0|       0|     0|        0|          0|     0|    0|      0|         0|         0|             0|\n",
      "+---------+---------------+------+--------+----+-----------------+--------+------+---------+-----------+------+-----+-------+----------+----------+--------------+\n",
      "\n",
      "+---------+---------------+------+--------+----+-----------------+--------+------+---------+-----------+------+-----+-------+----------+----------+--------------+\n",
      "|Job Title|Salary Estimate|rating|Location|Size|Type of ownership|Industry|Sector|job_state|company_age|python|spark|tableau|min_salary|max_salary|average_salary|\n",
      "+---------+---------------+------+--------+----+-----------------+--------+------+---------+-----------+------+-----+-------+----------+----------+--------------+\n",
      "|        0|              0|     0|       0|   0|                0|       0|     0|        0|          0|     0|    0|      0|         0|         0|             0|\n",
      "+---------+---------------+------+--------+----+-----------------+--------+------+---------+-----------+------+-----+-------+----------+----------+--------------+\n",
      "\n"
     ]
    }
   ],
   "source": [
    "df.select([count(when(isnull(c) | isnan(c),c)).alias(c) for c in df.columns]).show()\n",
    "missing_values = df.select([count(when(isnull(c), c)).alias(c) for c in df.columns])\n",
    "missing_values.show()\n"
   ]
  },
  {
   "cell_type": "code",
   "execution_count": 19,
   "id": "d11534ca",
   "metadata": {
    "scrolled": false
   },
   "outputs": [
    {
     "name": "stdout",
     "output_type": "stream",
     "text": [
      "root\n",
      " |-- Job Title: string (nullable = true)\n",
      " |-- Salary Estimate: string (nullable = true)\n",
      " |-- rating: double (nullable = true)\n",
      " |-- Location: string (nullable = true)\n",
      " |-- Size: string (nullable = true)\n",
      " |-- Type of ownership: string (nullable = true)\n",
      " |-- Industry: string (nullable = true)\n",
      " |-- Sector: string (nullable = true)\n",
      " |-- job_state: string (nullable = true)\n",
      " |-- company_age: integer (nullable = true)\n",
      " |-- python: integer (nullable = true)\n",
      " |-- spark: integer (nullable = true)\n",
      " |-- tableau: integer (nullable = true)\n",
      " |-- min_salary: integer (nullable = true)\n",
      " |-- max_salary: integer (nullable = true)\n",
      " |-- average_salary: double (nullable = true)\n",
      "\n"
     ]
    }
   ],
   "source": [
    "df.printSchema()"
   ]
  },
  {
   "cell_type": "code",
   "execution_count": 21,
   "id": "6a402556",
   "metadata": {},
   "outputs": [],
   "source": [
    "pandas_df = df.toPandas()\n",
    "pandas_df.to_csv(filepath, index=False)"
   ]
  },
  {
   "cell_type": "code",
   "execution_count": 24,
   "id": "9d51c6af",
   "metadata": {},
   "outputs": [
    {
     "data": {
      "text/plain": [
       "Job Title                  0\n",
       "Salary Estimate            0\n",
       "rating                     0\n",
       "Location                   0\n",
       "Size                       0\n",
       "Type of ownership          0\n",
       "Industry                   0\n",
       "Sector                     0\n",
       "job_state                  0\n",
       "company_age                0\n",
       "python                     0\n",
       "spark                      0\n",
       "tableau                    0\n",
       "min_salary                 0\n",
       "max_salary                 0\n",
       "average_salary             0\n",
       "min_employees             96\n",
       "max_employees            660\n",
       "company_size_category      0\n",
       "dtype: int64"
      ]
     },
     "execution_count": 24,
     "metadata": {},
     "output_type": "execute_result"
    }
   ],
   "source": [
    "pandas_df.isnull().sum()"
   ]
  },
  {
   "cell_type": "code",
   "execution_count": null,
   "id": "e5628c1e",
   "metadata": {},
   "outputs": [],
   "source": []
  }
 ],
 "metadata": {
  "kernelspec": {
   "display_name": "gpu",
   "language": "python",
   "name": "gpu"
  },
  "language_info": {
   "codemirror_mode": {
    "name": "ipython",
    "version": 3
   },
   "file_extension": ".py",
   "mimetype": "text/x-python",
   "name": "python",
   "nbconvert_exporter": "python",
   "pygments_lexer": "ipython3",
   "version": "3.9.16"
  }
 },
 "nbformat": 4,
 "nbformat_minor": 5
}
