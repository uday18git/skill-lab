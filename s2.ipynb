{
 "cells": [
  {
   "cell_type": "code",
   "execution_count": 1,
   "id": "66958b50",
   "metadata": {},
   "outputs": [],
   "source": [
    "from pyspark.sql import SparkSession\n",
    "import pandas as pd\n",
    "from pyspark.sql.functions import *\n"
   ]
  },
  {
   "cell_type": "code",
   "execution_count": 13,
   "id": "6ef2bd80",
   "metadata": {},
   "outputs": [
    {
     "name": "stdout",
     "output_type": "stream",
     "text": [
      "root\n",
      " |-- _c0: integer (nullable = true)\n",
      " |-- Order ID: integer (nullable = true)\n",
      " |-- Product: string (nullable = true)\n",
      " |-- Quantity Ordered: integer (nullable = true)\n",
      " |-- Price Each: double (nullable = true)\n",
      " |-- Order Date: string (nullable = true)\n",
      " |-- Purchase Address: string (nullable = true)\n",
      " |-- Month: integer (nullable = true)\n",
      " |-- Sales: double (nullable = true)\n",
      " |-- City: string (nullable = true)\n",
      " |-- Hour: integer (nullable = true)\n",
      "\n"
     ]
    }
   ],
   "source": [
    "spark = SparkSession.builder.appName(\"q2\").getOrCreate()\n",
    "filepath = \"Sales Data.csv\"\n",
    "df = spark.read.csv(filepath, inferSchema=True , header=True)\n",
    "df.printSchema()\n",
    "# df.show()"
   ]
  },
  {
   "cell_type": "code",
   "execution_count": 3,
   "id": "aaa6e5b0",
   "metadata": {},
   "outputs": [
    {
     "name": "stdout",
     "output_type": "stream",
     "text": [
      "+---+--------+-------+----------------+----------+----------+----------------+-----+-----+----+----+\n",
      "|_c0|Order ID|Product|Quantity Ordered|Price Each|Order Date|Purchase Address|Month|Sales|City|Hour|\n",
      "+---+--------+-------+----------------+----------+----------+----------------+-----+-----+----+----+\n",
      "|  0|       0|      0|               0|         0|         0|               0|    0|    0|   0|   0|\n",
      "+---+--------+-------+----------------+----------+----------+----------------+-----+-----+----+----+\n",
      "\n"
     ]
    }
   ],
   "source": [
    "#checking for null values\n",
    "df.select([count(when(isnull(c) | isnan(c),c)).alias(c) for c in df.columns]).show()"
   ]
  },
  {
   "cell_type": "code",
   "execution_count": 6,
   "id": "9787e960",
   "metadata": {},
   "outputs": [
    {
     "name": "stdout",
     "output_type": "stream",
     "text": [
      "Row(avg(Sales)=185.49375999620375)\n"
     ]
    }
   ],
   "source": [
    "# 1. Use PySpark to identify columns with missing values and decide whether to fill or \n",
    "# remove them. For numerical columns like Sales or Quantity Ordered, you may want \n",
    "# to fill missing values with the mean or median, or drop rows with missing values.\n",
    "\n",
    "### important to put df = , for everything\n",
    "mean_value = df.select(mean(col('Sales'))).first()[0]\n",
    "df = df.fillna({'Sales':mean_value})\n",
    "\n",
    "critical_columns = [\"Order Id\",\"Product\", \"Order Date\"]\n",
    "df = df.dropna(subset = critical_columns)"
   ]
  },
  {
   "cell_type": "code",
   "execution_count": 7,
   "id": "ada5c70f",
   "metadata": {},
   "outputs": [],
   "source": [
    "#2\n",
    "df = df.dropDuplicates()"
   ]
  },
  {
   "cell_type": "code",
   "execution_count": 9,
   "id": "bc58a0a8",
   "metadata": {},
   "outputs": [
    {
     "name": "stdout",
     "output_type": "stream",
     "text": [
      "root\n",
      " |-- _c0: integer (nullable = true)\n",
      " |-- Order ID: integer (nullable = true)\n",
      " |-- Product: string (nullable = true)\n",
      " |-- Quantity Ordered: double (nullable = true)\n",
      " |-- Price Each: double (nullable = true)\n",
      " |-- Order Date: string (nullable = true)\n",
      " |-- Purchase Address: string (nullable = true)\n",
      " |-- Month: integer (nullable = true)\n",
      " |-- Sales: double (nullable = true)\n",
      " |-- City: string (nullable = true)\n",
      " |-- Hour: integer (nullable = true)\n",
      "\n"
     ]
    }
   ],
   "source": [
    "#3 ensure numerical columsn are correctly formatted\n",
    "df = df.withColumn(\"Quantity Ordered\", col(\"Quantity Ordered\").cast(\"double\")).withColumn(\"Price Each\",col(\"Price Each\").cast(\"double\"))\n",
    "df.printSchema()"
   ]
  },
  {
   "cell_type": "code",
   "execution_count": 10,
   "id": "7576e5af",
   "metadata": {},
   "outputs": [],
   "source": [
    "#4\n",
    "# Check for negative values in the Sales, Price Each, and Quantity Ordered columns, as \n",
    "# these columns should not contain negative numbers (since they represent sales \n",
    "# amounts, prices, or quantities that should logically be non-negative). Remove any \n",
    "# rows where these columns contain negative values to ensure the dataset is clean and \n",
    "# suitable for analysis. \n",
    "\n",
    "df= df.filter((col(\"Sales\") >=0 ) & (col(\"Price Each\")>=0) & (col(\"Quantity Ordered\")>=0))"
   ]
  },
  {
   "cell_type": "code",
   "execution_count": 11,
   "id": "dda04aeb",
   "metadata": {},
   "outputs": [
    {
     "data": {
      "text/plain": [
       "185950"
      ]
     },
     "execution_count": 11,
     "metadata": {},
     "output_type": "execute_result"
    }
   ],
   "source": [
    "df.count()"
   ]
  },
  {
   "cell_type": "code",
   "execution_count": 14,
   "id": "6427917c",
   "metadata": {},
   "outputs": [
    {
     "name": "stdout",
     "output_type": "stream",
     "text": [
      "+--------------------+------------------+\n",
      "|             Product|       Total Sales|\n",
      "+--------------------+------------------+\n",
      "|    Wired Headphones|246651.93375999495|\n",
      "|  Macbook Pro Laptop|         8037600.0|\n",
      "|Apple Airpods Hea...|         2349150.0|\n",
      "|              iPhone|         4794300.0|\n",
      "|Lightning Chargin...|347094.14999997814|\n",
      "|Bose SoundSport H...|1345565.4299999585|\n",
      "|USB-C Charging Cable|286674.79375998117|\n",
      "|AAA Batteries (4-...| 92740.82999999724|\n",
      "|        20in Monitor|454148.71000000305|\n",
      "|    27in FHD Monitor| 1132424.499999984|\n",
      "|     Vareebadd Phone|          827200.0|\n",
      "|34in Ultrawide Mo...| 2355558.009999966|\n",
      "|            LG Dryer|          387600.0|\n",
      "|AA Batteries (4-p...|106300.05375999937|\n",
      "|        Google Phone|         3319200.0|\n",
      "|       Flatscreen TV|         1445700.0|\n",
      "|  LG Washing Machine|          399600.0|\n",
      "|27in 4K Gaming Mo...|2435097.5599999656|\n",
      "|     ThinkPad Laptop| 4129958.699999971|\n",
      "+--------------------+------------------+\n",
      "\n"
     ]
    }
   ],
   "source": [
    "#5 total sales for each product using sum and groupBy\n",
    "\n",
    "ans = df.groupBy(\"Product\").agg(sum(col(\"Sales\")).alias(\"Total Sales\"))\n",
    "ans.show()"
   ]
  },
  {
   "cell_type": "code",
   "execution_count": null,
   "id": "26023d31",
   "metadata": {},
   "outputs": [],
   "source": [
    "df_pandas = df.toPandas()\n",
    "df_pandas.to_csv(output_path,index=False)"
   ]
  }
 ],
 "metadata": {
  "kernelspec": {
   "display_name": "gpu",
   "language": "python",
   "name": "gpu"
  },
  "language_info": {
   "codemirror_mode": {
    "name": "ipython",
    "version": 3
   },
   "file_extension": ".py",
   "mimetype": "text/x-python",
   "name": "python",
   "nbconvert_exporter": "python",
   "pygments_lexer": "ipython3",
   "version": "3.9.16"
  }
 },
 "nbformat": 4,
 "nbformat_minor": 5
}
