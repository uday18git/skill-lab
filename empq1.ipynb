{
 "cells": [
  {
   "cell_type": "code",
   "execution_count": 2,
   "id": "f5b08d8c",
   "metadata": {},
   "outputs": [],
   "source": [
    "from pyspark.sql import SparkSession\n",
    "from pyspark.sql.functions import *"
   ]
  },
  {
   "cell_type": "code",
   "execution_count": 50,
   "id": "4629ba55",
   "metadata": {},
   "outputs": [
    {
     "name": "stdout",
     "output_type": "stream",
     "text": [
      "root\n",
      " |-- EmpID: integer (nullable = true)\n",
      " |-- FirstName: string (nullable = true)\n",
      " |-- LastName: string (nullable = true)\n",
      " |-- StartDate: string (nullable = true)\n",
      " |-- ExitDate: string (nullable = true)\n",
      " |-- Title: string (nullable = true)\n",
      " |-- Supervisor: string (nullable = true)\n",
      " |-- BusinessUnit: string (nullable = true)\n",
      " |-- EmployeeStatus: string (nullable = true)\n",
      " |-- EmployeeType: string (nullable = true)\n",
      " |-- PayZone: string (nullable = true)\n",
      " |-- EmployeeClassificationType: string (nullable = true)\n",
      " |-- TerminationType: string (nullable = true)\n",
      " |-- DepartmentType: string (nullable = true)\n",
      " |-- Division: string (nullable = true)\n",
      " |-- DOB: string (nullable = true)\n",
      " |-- State: string (nullable = true)\n",
      " |-- JobFunctionDescription: string (nullable = true)\n",
      " |-- GenderCode: string (nullable = true)\n",
      " |-- LocationCode: integer (nullable = true)\n",
      " |-- RaceDesc: string (nullable = true)\n",
      " |-- MaritalDesc: string (nullable = true)\n",
      " |-- Performance Score: string (nullable = true)\n",
      " |-- Current Employee Rating: integer (nullable = true)\n",
      "\n",
      "+-----+---------+---------+---------+---------+------------------+----------------+------------+--------------+------------+-------+--------------------------+---------------+--------------+--------------------+----------+-----+----------------------+----------+------------+--------+-----------+-----------------+-----------------------+\n",
      "|EmpID|FirstName| LastName|StartDate| ExitDate|             Title|      Supervisor|BusinessUnit|EmployeeStatus|EmployeeType|PayZone|EmployeeClassificationType|TerminationType|DepartmentType|            Division|       DOB|State|JobFunctionDescription|GenderCode|LocationCode|RaceDesc|MaritalDesc|Performance Score|Current Employee Rating|\n",
      "+-----+---------+---------+---------+---------+------------------+----------------+------------+--------------+------------+-------+--------------------------+---------------+--------------+--------------------+----------+-----+----------------------+----------+------------+--------+-----------+-----------------+-----------------------+\n",
      "| 3461|  Lincoln|  Compton|18-Jul-19|01-Oct-21|Area Sales Manager|    Tammy Conner|          EW|  Future Start|   Full-Time| Zone C|                 Part-Time|    Resignation|         Sales|       General - Con|29-12-1997|   CO|               Foreman|      Male|       78046|Hispanic|    Married|Needs Improvement|                      1|\n",
      "| 3463|   Kayden|   Dodson|30-Apr-20|18-Jul-21|Area Sales Manager|  Jessica Peters|         TNS|        Active|   Part-Time| Zone A|                 Temporary|     Retirement|         Sales|    Field Operations|21-06-1951|   IN|            Tower Hand|      Male|       12703|Hispanic|     Single|      Fully Meets|                      1|\n",
      "| 3467|    Celia|   Curtis|06-May-20|     NULL|Area Sales Manager|Michael Odonnell|         WBL|        Active|    Contract| Zone A|                 Part-Time|            Unk|         Sales|            Fielders|14-05-1987|   KY|              Engineer|    Female|       94333|   Asian|   Divorced|          Exceeds|                      6|\n",
      "| 3480| Jerimiah|   Harmon|08-Sep-22|16-Oct-22|Area Sales Manager|       Eric King|          PL|  Future Start|   Full-Time| Zone C|                 Temporary|     Retirement|         Sales|                Catv|09-08-1946|   TX|            Supervisor|    Female|       75671|   Black|    Widowed|      Fully Meets|                      6|\n",
      "| 3483|  Jaslene|  Harding|26-Sep-21|     NULL|Area Sales Manager|Krystal Hamilton|         SVG|        Active|   Part-Time| Zone B|                 Temporary|            Unk|         Sales|Project Managemen...|19-06-1964|   CO|           Coordinator|      Male|       42605|   Asian|    Widowed|      Fully Meets|                      6|\n",
      "| 3492|  Vicente|  Merritt|26-Nov-19|     NULL|Area Sales Manager|    Ashley Smith|          PL|        Active|   Full-Time| Zone C|                 Full-Time|            Unk|         Sales|       General - Con|08-01-1993|   CO|                 Clerk|      Male|       31676|   Asian|    Married|      Fully Meets|                      1|\n",
      "| 3497|   Graham|Rodriguez|08-Dec-21|     NULL|Area Sales Manager|   Kendra Murray|         TNS|        Active|   Part-Time| Zone C|                 Temporary|            Unk|         Sales|Project Managemen...|18-02-1981|   OR|               Lineman|    Female|       58210|Hispanic|    Widowed|      Fully Meets|                      6|\n",
      "| 3500|   Nevaeh|    Lucas|20-Nov-18|21-Jun-20|Area Sales Manager|   Bryan Douglas|         NEL|        Active|   Full-Time| Zone B|                 Part-Time|      Voluntary|         Sales|        Shop (Fleet)|25-02-2000|   TX|              Mechanic|    Female|       80424|   White|   Divorced|      Fully Meets|                      1|\n",
      "| 3502|   Eugene|    Marks|01-Oct-19|     NULL|Area Sales Manager|   Angela Morris|         BPC|        Active|   Full-Time| Zone C|                 Temporary|            Unk|         Sales|            Splicing|29-06-1976|   TX|           Electrician|      Male|       49914|   White|    Married|      Fully Meets|                      1|\n",
      "| 3505|    Amaya|    Hicks|29-Aug-20|     NULL|Area Sales Manager| Michael Wilkins|          EW|        Active|    Contract| Zone B|                 Temporary|            Unk|         Sales|    Field Operations|24-07-1943|   IN|             Groundman|      Male|       72324|Hispanic|    Widowed|      Fully Meets|                      1|\n",
      "| 3514|   Alexus|    Estes|15-Apr-20|     NULL|Area Sales Manager|  April Randolph|         BPC|        Active|   Full-Time| Zone B|                 Part-Time|            Unk|         Sales|Wireline Construc...|03-01-1958|   TX|               Manager|      Male|       17419|   Asian|    Married|      Fully Meets|                      1|\n",
      "| 3520|   Caiden|    Munoz|13-Dec-20|13-Jan-23|Area Sales Manager|   Teresa Daniel|         TNS|        Active|   Full-Time| Zone C|                 Temporary|    Involuntary|         Sales|Project Managemen...|01-03-1963|   ND|               Manager|    Female|       18983|   Black|   Divorced|      Fully Meets|                      1|\n",
      "| 3522|  Marques|Armstrong|02-Mar-20|     NULL|Area Sales Manager|  Michael Nguyen|         BPC|        Active|   Full-Time| Zone C|                 Part-Time|            Unk|         Sales|            Splicing|12-10-1983|   KY|               Splicer|    Female|       34369|   Other|     Single|      Fully Meets|                      1|\n",
      "| 3527|    Ahmed|  Hawkins|01-May-20|25-Feb-21|Area Sales Manager|   Hannah Snyder|          PL|        Active|   Full-Time| Zone B|                 Temporary|     Retirement|         Sales|              Aerial|15-10-1974|   CO|               Lineman|      Male|       46645|   Black|    Married|      Fully Meets|                      1|\n",
      "| 3531|   Ronnie|    Mayer|17-Jun-23|     NULL|Area Sales Manager|     Dylan Blake|         WBL|        Active|   Full-Time| Zone C|                 Full-Time|            Unk|         Sales|Project Managemen...|18-05-1943|   CA|       Project Manager|      Male|       18409|   Black|   Divorced|      Fully Meets|                      1|\n",
      "| 3532|   Marlon|     Ford|14-Oct-21|     NULL|Area Sales Manager|Monique Anderson|          EW|        Active|   Part-Time| Zone B|                 Full-Time|            Unk|         IT/IS|            Wireless|27-11-1966|   OR|            Technician|    Female|       40306|   Black|    Widowed|      Fully Meets|                      1|\n",
      "| 3542|    Ellie|     Gill|15-Apr-23|     NULL|Area Sales Manager|   Amanda Knight|          EW|        Active|    Contract| Zone A|                 Temporary|            Unk|         Sales|    Field Operations|01-03-1948|   IN|               Manager|      Male|       45456|   White|    Married|Needs Improvement|                      1|\n",
      "| 3545|    Ryann|    Rubio|07-Mar-22|     NULL|Area Sales Manager|    Andres Jones|          EW|        Active|   Full-Time| Zone C|                 Temporary|            Unk|         IT/IS|    Field Operations|28-01-1943|   OR|               Locator|    Female|        9733|   Black|    Widowed|      Fully Meets|                      1|\n",
      "| 3546|    Paris|     Carr|31-Jul-21|27-Jan-23|Area Sales Manager| Jeffrey Huffman|        CCDR|        Active|   Full-Time| Zone B|                 Part-Time|      Voluntary|         Sales|       General - Con|14-07-1980|   ND|               Foreman|      Male|       35786|Hispanic|    Widowed|          Exceeds|                      1|\n",
      "| 3548|    Sanaa|    Glass|11-Jul-21|10-Oct-22|Area Sales Manager|  Stephen Garcia|         WBL|        Active|   Part-Time| Zone A|                 Full-Time|    Resignation|         Sales|       General - Con|25-01-1964|   KY|            Technician|    Female|       40135|   White|     Single|      Fully Meets|                      1|\n",
      "+-----+---------+---------+---------+---------+------------------+----------------+------------+--------------+------------+-------+--------------------------+---------------+--------------+--------------------+----------+-----+----------------------+----------+------------+--------+-----------+-----------------+-----------------------+\n",
      "only showing top 20 rows\n",
      "\n"
     ]
    }
   ],
   "source": [
    "spark = SparkSession.builder.appName(\"Employee Data Cleaning\").getOrCreate()\n",
    "file_path = \"emp_data.csv\" \n",
    "df = spark.read.csv(file_path, header=True, inferSchema=True)\n",
    "df.printSchema()\n",
    "df.show()\n",
    "\n"
   ]
  },
  {
   "cell_type": "code",
   "execution_count": 51,
   "id": "f429621b",
   "metadata": {},
   "outputs": [
    {
     "name": "stdout",
     "output_type": "stream",
     "text": [
      "+-----+---------+--------+---------+--------+-----+----------+------------+--------------+------------+-------+--------------------------+---------------+--------------+--------+---+-----+----------------------+----------+------------+--------+-----------+-----------------+-----------------------+\n",
      "|EmpID|FirstName|LastName|StartDate|ExitDate|Title|Supervisor|BusinessUnit|EmployeeStatus|EmployeeType|PayZone|EmployeeClassificationType|TerminationType|DepartmentType|Division|DOB|State|JobFunctionDescription|GenderCode|LocationCode|RaceDesc|MaritalDesc|Performance Score|Current Employee Rating|\n",
      "+-----+---------+--------+---------+--------+-----+----------+------------+--------------+------------+-------+--------------------------+---------------+--------------+--------+---+-----+----------------------+----------+------------+--------+-----------+-----------------+-----------------------+\n",
      "|    0|        0|       0|        0|     263|    0|         0|           0|             0|           0|      0|                         0|              0|             0|       0|  0|    0|                     0|         0|           0|       0|          0|                0|                      0|\n",
      "+-----+---------+--------+---------+--------+-----+----------+------------+--------------+------------+-------+--------------------------+---------------+--------------+--------+---+-----+----------------------+----------+------------+--------+-----------+-----------------+-----------------------+\n",
      "\n"
     ]
    }
   ],
   "source": [
    "# 1. Handle Missing Values\n",
    "df.select([count(when(isnull(c) | isnan(c), c)).alias(c) for c in df.columns]).show()\n",
    "\n",
    "\n",
    "\n",
    "# Drop rows with missing values in essential columns\n",
    "df = df.dropna(subset=[\"EmpID\", \"StartDate\"])\n"
   ]
  },
  {
   "cell_type": "code",
   "execution_count": 52,
   "id": "f64fb67c",
   "metadata": {},
   "outputs": [
    {
     "name": "stdout",
     "output_type": "stream",
     "text": [
      "+------------+\n",
      "|LocationCode|\n",
      "+------------+\n",
      "|        2122|\n",
      "|       97413|\n",
      "|       80424|\n",
      "|        1460|\n",
      "|       75321|\n",
      "|       49449|\n",
      "|       56687|\n",
      "|       78046|\n",
      "|       44553|\n",
      "|        9454|\n",
      "|       57754|\n",
      "|        8779|\n",
      "|       29811|\n",
      "|       65321|\n",
      "|       39859|\n",
      "|       49914|\n",
      "|       74388|\n",
      "|       34011|\n",
      "|       60107|\n",
      "|       31207|\n",
      "+------------+\n",
      "only showing top 20 rows\n",
      "\n"
     ]
    }
   ],
   "source": [
    "# 2. Remove Outliers\n",
    "# Cap Current Employee Rating between 1 and 5\n",
    "df = df.withColumn(\"Current Employee Rating\", \n",
    "                   when(col(\"Current Employee Rating\") < 1, 1)\n",
    "                   .when(col(\"Current Employee Rating\") > 5, 5)\n",
    "                   .otherwise(col(\"Current Employee Rating\")))\n",
    "\n",
    "# Investigate LocationCode for unrealistic values\n",
    "df.select(\"LocationCode\").distinct().show()"
   ]
  },
  {
   "cell_type": "code",
   "execution_count": 53,
   "id": "eb4a109e",
   "metadata": {},
   "outputs": [
    {
     "name": "stdout",
     "output_type": "stream",
     "text": [
      "+-----+---------+---------+---------+---------+------------------+----------------+------------+--------------+------------+-------+--------------------------+---------------+--------------+--------------------+----------+-----+----------------------+----------+------------+--------+-----------+-----------------+-----------------------+\n",
      "|EmpID|FirstName| LastName|StartDate| ExitDate|             Title|      Supervisor|BusinessUnit|EmployeeStatus|EmployeeType|PayZone|EmployeeClassificationType|TerminationType|DepartmentType|            Division|       DOB|State|JobFunctionDescription|GenderCode|LocationCode|RaceDesc|MaritalDesc|Performance Score|Current Employee Rating|\n",
      "+-----+---------+---------+---------+---------+------------------+----------------+------------+--------------+------------+-------+--------------------------+---------------+--------------+--------------------+----------+-----+----------------------+----------+------------+--------+-----------+-----------------+-----------------------+\n",
      "| 3461|  Lincoln|  Compton|18-Jul-19|01-Oct-21|Area Sales Manager|    Tammy Conner|          EW|  Future Start|   Full-Time| Zone C|                 Part-Time|    Resignation|         Sales|       General - Con|29-12-1997|   CO|               Foreman|      Male|       78046|Hispanic|    Married|Needs Improvement|                      1|\n",
      "| 3463|   Kayden|   Dodson|30-Apr-20|18-Jul-21|Area Sales Manager|  Jessica Peters|         TNS|        Active|   Part-Time| Zone A|                 Temporary|     Retirement|         Sales|    Field Operations|21-06-1951|   IN|            Tower Hand|      Male|       12703|Hispanic|     Single|      Fully Meets|                      1|\n",
      "| 3467|    Celia|   Curtis|06-May-20|     NULL|Area Sales Manager|Michael Odonnell|         WBL|        Active|    Contract| Zone A|                 Part-Time|            Unk|         Sales|            Fielders|14-05-1987|   KY|              Engineer|    Female|       94333|   Asian|   Divorced|          Exceeds|                      5|\n",
      "| 3480| Jerimiah|   Harmon|08-Sep-22|16-Oct-22|Area Sales Manager|       Eric King|          PL|  Future Start|   Full-Time| Zone C|                 Temporary|     Retirement|         Sales|                Catv|09-08-1946|   TX|            Supervisor|    Female|       75671|   Black|    Widowed|      Fully Meets|                      5|\n",
      "| 3483|  Jaslene|  Harding|26-Sep-21|     NULL|Area Sales Manager|Krystal Hamilton|         SVG|        Active|   Part-Time| Zone B|                 Temporary|            Unk|         Sales|Project Managemen...|19-06-1964|   CO|           Coordinator|      Male|       42605|   Asian|    Widowed|      Fully Meets|                      5|\n",
      "| 3492|  Vicente|  Merritt|26-Nov-19|     NULL|Area Sales Manager|    Ashley Smith|          PL|        Active|   Full-Time| Zone C|                 Full-Time|            Unk|         Sales|       General - Con|08-01-1993|   CO|                 Clerk|      Male|       31676|   Asian|    Married|      Fully Meets|                      1|\n",
      "| 3497|   Graham|Rodriguez|08-Dec-21|     NULL|Area Sales Manager|   Kendra Murray|         TNS|        Active|   Part-Time| Zone C|                 Temporary|            Unk|         Sales|Project Managemen...|18-02-1981|   OR|               Lineman|    Female|       58210|Hispanic|    Widowed|      Fully Meets|                      5|\n",
      "| 3500|   Nevaeh|    Lucas|20-Nov-18|21-Jun-20|Area Sales Manager|   Bryan Douglas|         NEL|        Active|   Full-Time| Zone B|                 Part-Time|      Voluntary|         Sales|        Shop (Fleet)|25-02-2000|   TX|              Mechanic|    Female|       80424|   White|   Divorced|      Fully Meets|                      1|\n",
      "| 3502|   Eugene|    Marks|01-Oct-19|     NULL|Area Sales Manager|   Angela Morris|         BPC|        Active|   Full-Time| Zone C|                 Temporary|            Unk|         Sales|            Splicing|29-06-1976|   TX|           Electrician|      Male|       49914|   White|    Married|      Fully Meets|                      1|\n",
      "| 3505|    Amaya|    Hicks|29-Aug-20|     NULL|Area Sales Manager| Michael Wilkins|          EW|        Active|    Contract| Zone B|                 Temporary|            Unk|         Sales|    Field Operations|24-07-1943|   IN|             Groundman|      Male|       72324|Hispanic|    Widowed|      Fully Meets|                      1|\n",
      "| 3514|   Alexus|    Estes|15-Apr-20|     NULL|Area Sales Manager|  April Randolph|         BPC|        Active|   Full-Time| Zone B|                 Part-Time|            Unk|         Sales|Wireline Construc...|03-01-1958|   TX|               Manager|      Male|       17419|   Asian|    Married|      Fully Meets|                      1|\n",
      "| 3520|   Caiden|    Munoz|13-Dec-20|13-Jan-23|Area Sales Manager|   Teresa Daniel|         TNS|        Active|   Full-Time| Zone C|                 Temporary|    Involuntary|         Sales|Project Managemen...|01-03-1963|   ND|               Manager|    Female|       18983|   Black|   Divorced|      Fully Meets|                      1|\n",
      "| 3522|  Marques|Armstrong|02-Mar-20|     NULL|Area Sales Manager|  Michael Nguyen|         BPC|        Active|   Full-Time| Zone C|                 Part-Time|            Unk|         Sales|            Splicing|12-10-1983|   KY|               Splicer|    Female|       34369|   Other|     Single|      Fully Meets|                      1|\n",
      "| 3527|    Ahmed|  Hawkins|01-May-20|25-Feb-21|Area Sales Manager|   Hannah Snyder|          PL|        Active|   Full-Time| Zone B|                 Temporary|     Retirement|         Sales|              Aerial|15-10-1974|   CO|               Lineman|      Male|       46645|   Black|    Married|      Fully Meets|                      1|\n",
      "| 3531|   Ronnie|    Mayer|17-Jun-23|     NULL|Area Sales Manager|     Dylan Blake|         WBL|        Active|   Full-Time| Zone C|                 Full-Time|            Unk|         Sales|Project Managemen...|18-05-1943|   CA|       Project Manager|      Male|       18409|   Black|   Divorced|      Fully Meets|                      1|\n",
      "| 3532|   Marlon|     Ford|14-Oct-21|     NULL|Area Sales Manager|Monique Anderson|          EW|        Active|   Part-Time| Zone B|                 Full-Time|            Unk|         IT/IS|            Wireless|27-11-1966|   OR|            Technician|    Female|       40306|   Black|    Widowed|      Fully Meets|                      1|\n",
      "| 3542|    Ellie|     Gill|15-Apr-23|     NULL|Area Sales Manager|   Amanda Knight|          EW|        Active|    Contract| Zone A|                 Temporary|            Unk|         Sales|    Field Operations|01-03-1948|   IN|               Manager|      Male|       45456|   White|    Married|Needs Improvement|                      1|\n",
      "| 3545|    Ryann|    Rubio|07-Mar-22|     NULL|Area Sales Manager|    Andres Jones|          EW|        Active|   Full-Time| Zone C|                 Temporary|            Unk|         IT/IS|    Field Operations|28-01-1943|   OR|               Locator|    Female|        9733|   Black|    Widowed|      Fully Meets|                      1|\n",
      "| 3546|    Paris|     Carr|31-Jul-21|27-Jan-23|Area Sales Manager| Jeffrey Huffman|        CCDR|        Active|   Full-Time| Zone B|                 Part-Time|      Voluntary|         Sales|       General - Con|14-07-1980|   ND|               Foreman|      Male|       35786|Hispanic|    Widowed|          Exceeds|                      1|\n",
      "| 3548|    Sanaa|    Glass|11-Jul-21|10-Oct-22|Area Sales Manager|  Stephen Garcia|         WBL|        Active|   Part-Time| Zone A|                 Full-Time|    Resignation|         Sales|       General - Con|25-01-1964|   KY|            Technician|    Female|       40135|   White|     Single|      Fully Meets|                      1|\n",
      "+-----+---------+---------+---------+---------+------------------+----------------+------------+--------------+------------+-------+--------------------------+---------------+--------------+--------------------+----------+-----+----------------------+----------+------------+--------+-----------+-----------------+-----------------------+\n",
      "only showing top 20 rows\n",
      "\n"
     ]
    }
   ],
   "source": [
    "df.show()"
   ]
  },
  {
   "cell_type": "code",
   "execution_count": 54,
   "id": "80502210",
   "metadata": {},
   "outputs": [],
   "source": [
    "# 3. Remove Duplicates\n",
    "df = df.dropDuplicates()"
   ]
  },
  {
   "cell_type": "code",
   "execution_count": 55,
   "id": "39edb7de",
   "metadata": {},
   "outputs": [
    {
     "data": {
      "text/plain": [
       "552"
      ]
     },
     "execution_count": 55,
     "metadata": {},
     "output_type": "execute_result"
    }
   ],
   "source": [
    "df.count()"
   ]
  },
  {
   "cell_type": "code",
   "execution_count": 56,
   "id": "3564591a",
   "metadata": {},
   "outputs": [
    {
     "name": "stdout",
     "output_type": "stream",
     "text": [
      "root\n",
      " |-- EmpID: integer (nullable = true)\n",
      " |-- FirstName: string (nullable = true)\n",
      " |-- LastName: string (nullable = true)\n",
      " |-- StartDate: string (nullable = true)\n",
      " |-- ExitDate: string (nullable = true)\n",
      " |-- Title: string (nullable = true)\n",
      " |-- Supervisor: string (nullable = true)\n",
      " |-- BusinessUnit: string (nullable = true)\n",
      " |-- EmployeeStatus: string (nullable = true)\n",
      " |-- EmployeeType: string (nullable = true)\n",
      " |-- PayZone: string (nullable = true)\n",
      " |-- EmployeeClassificationType: string (nullable = true)\n",
      " |-- TerminationType: string (nullable = true)\n",
      " |-- DepartmentType: string (nullable = true)\n",
      " |-- Division: string (nullable = true)\n",
      " |-- DOB: string (nullable = true)\n",
      " |-- State: string (nullable = true)\n",
      " |-- JobFunctionDescription: string (nullable = true)\n",
      " |-- GenderCode: string (nullable = true)\n",
      " |-- LocationCode: integer (nullable = true)\n",
      " |-- RaceDesc: string (nullable = true)\n",
      " |-- MaritalDesc: string (nullable = true)\n",
      " |-- Performance Score: string (nullable = true)\n",
      " |-- Current Employee Rating: integer (nullable = true)\n",
      "\n"
     ]
    }
   ],
   "source": [
    "df.printSchema()"
   ]
  },
  {
   "cell_type": "code",
   "execution_count": 57,
   "id": "479ac3e8",
   "metadata": {},
   "outputs": [
    {
     "name": "stdout",
     "output_type": "stream",
     "text": [
      "+--------------------+--------------------+-----+\n",
      "|trim(DepartmentType)|         trim(Title)|count|\n",
      "+--------------------+--------------------+-----+\n",
      "|               IT/IS|Principal Data Ar...|    8|\n",
      "|               IT/IS|        Data Analyst|   11|\n",
      "|          Production|Production Techni...|   61|\n",
      "|               IT/IS|Sr. Network Engineer|   30|\n",
      "|          Production|    Network Engineer|    1|\n",
      "|    Executive Office|    Network Engineer|   18|\n",
      "|               IT/IS|    Network Engineer|   22|\n",
      "|          Production|Production Techni...|    1|\n",
      "|          Production|Production Techni...|  190|\n",
      "|               IT/IS|      Data Architect|    2|\n",
      "|               IT/IS|  Area Sales Manager|    7|\n",
      "|               Sales|  Area Sales Manager|  119|\n",
      "|               IT/IS|Enterprise Architect|    5|\n",
      "|               IT/IS|          IT Support|   44|\n",
      "|               Sales| Area Sales Manager?|    1|\n",
      "|               Sales| Area Sales Manager.|    1|\n",
      "|               IT/IS|Software Engineer...|    1|\n",
      "|               IT/IS|      Sr. Accountant|    4|\n",
      "|               IT/IS|             Sr. DBA|    6|\n",
      "|               IT/IS|Database Administ...|   15|\n",
      "+--------------------+--------------------+-----+\n",
      "only showing top 20 rows\n",
      "\n"
     ]
    }
   ],
   "source": [
    "# 4. Count the number of employees in each department for every designation\n",
    "department_designation_count = df.groupBy(trim(\"DepartmentType\"),trim( \"Title\")).count()\n",
    "department_designation_count.show()"
   ]
  },
  {
   "cell_type": "code",
   "execution_count": 58,
   "id": "b182f6cd",
   "metadata": {},
   "outputs": [
    {
     "name": "stdout",
     "output_type": "stream",
     "text": [
      "+--------------------+-------------------+\n",
      "|trim(DepartmentType)|MaxPerformanceScore|\n",
      "+--------------------+-------------------+\n",
      "|               Sales|                  5|\n",
      "|          Production|                  5|\n",
      "|    Executive Office|                  3|\n",
      "|Software Engineering|                  3|\n",
      "|               IT/IS|                  4|\n",
      "+--------------------+-------------------+\n",
      "\n"
     ]
    }
   ],
   "source": [
    "# 5. For each department, find the employee with the highest performance score\n",
    "highest_performance = df.groupBy(trim(\"DepartmentType\")).agg(max(\"Current Employee Rating\").alias(\"MaxPerformanceScore\"))\n",
    "highest_performance.show()"
   ]
  },
  {
   "cell_type": "code",
   "execution_count": 59,
   "id": "e080ddf0",
   "metadata": {},
   "outputs": [
    {
     "name": "stdout",
     "output_type": "stream",
     "text": [
      "+-----+---------+--------------+---------+---------+--------------------+--------------------+------------+----------------+------------+-------+--------------------------+---------------+-----------------+--------------------+----------+-----+----------------------+----------+------------+--------+-----------+-----------------+-----------------------+-------------+\n",
      "|EmpID|FirstName|      LastName|StartDate| ExitDate|               Title|          Supervisor|BusinessUnit|  EmployeeStatus|EmployeeType|PayZone|EmployeeClassificationType|TerminationType|   DepartmentType|            Division|       DOB|State|JobFunctionDescription|GenderCode|LocationCode|RaceDesc|MaritalDesc|Performance Score|Current Employee Rating|FormattedDate|\n",
      "+-----+---------+--------------+---------+---------+--------------------+--------------------+------------+----------------+------------+-------+--------------------------+---------------+-----------------+--------------------+----------+-----+----------------------+----------+------------+--------+-----------+-----------------+-----------------------+-------------+\n",
      "| 3461|  Lincoln|       Compton|18-Jul-19|01-Oct-21|  Area Sales Manager|        Tammy Conner|          EW|    Future Start|   Full-Time| Zone C|                 Part-Time|    Resignation|            Sales|       General - Con|29-12-1997|   CO|               Foreman|      Male|       78046|Hispanic|    Married|Needs Improvement|                      1|   18/07/2019|\n",
      "| 3736|   Carsen|       Wheeler|18-Oct-20|22-Mar-23|Production Techni...|       Kimberly Soto|         SVG|          Active|   Full-Time| Zone A|                 Part-Time|    Resignation|Production       |Wireline Construc...|02-07-1976|   MA|               Laborer|      Male|       95345|   Other|    Married|      Fully Meets|                      2|   18/10/2020|\n",
      "| 3928|  Audrina|            Yu|27-Jan-21|18-Oct-21|    Network Engineer|       Walter Powell|         TNS|          Active|   Full-Time| Zone A|                 Temporary|    Resignation|            IT/IS|       General - Con|11-07-1956|   MA|               Laborer|      Male|       59834|   White|    Widowed|      Fully Meets|                      3|   27/01/2021|\n",
      "| 3574|     Anna|Von Massenbach|18-May-21|04-Jan-22|Production Techni...|      Timothy Weaver|         WBL|    Future Start|    Contract| Zone B|                 Full-Time|    Involuntary|Production       |         Underground|06-05-1951|   MA|               Laborer|    Female|        2124|Hispanic|    Widowed|      Fully Meets|                      1|   18/05/2021|\n",
      "| 3883|    Noemi|        Brewer|06-May-22|26-Sep-22|          IT Support|      Jacob Hamilton|         BPC|          Active|    Contract| Zone B|                 Full-Time|    Involuntary|            IT/IS|    Field Operations|16-06-1991|   MA|         Administrator|    Female|       11294|   White|    Widowed|      Fully Meets|                      3|   06/05/2022|\n",
      "| 3847|  Gilbert|         Klein|24-Feb-19|11-Jun-20|          IT Support|   Gregory Rodriguez|          PL|          Active|   Part-Time| Zone B|                 Temporary|     Retirement|            IT/IS|    Field Operations|06-09-1998|   MA|               Laborer|      Male|       53800|Hispanic|     Single|      Fully Meets|                      3|   24/02/2019|\n",
      "| 3879|     Liam|         Hanna|08-Feb-19|24-Feb-23|    Network Engineer|       Brian Aguirre|         PYZ|          Active|   Full-Time| Zone C|                 Part-Time|    Involuntary|            IT/IS|    Field Operations|13-01-1996|   MA|                 Clerk|      Male|       16655|Hispanic|    Married|      Fully Meets|                      3|   08/02/2019|\n",
      "| 3893|    Lukas|       Freeman|22-Mar-23|28-Jul-23|          IT Support|     Allison Shannon|          EW|          Active|   Full-Time| Zone B|                 Part-Time|    Involuntary|            IT/IS|       General - Con|15-04-1953|   MA|               Laborer|    Female|       68298|   Asian|    Married|      Fully Meets|                      3|   22/03/2023|\n",
      "| 3820|    Anita|       Shepard|11-Aug-18|21-May-21|    Network Engineer|         George Tran|          EW|          Active|    Contract| Zone C|                 Full-Time|      Voluntary|            IT/IS|       General - Con|29-09-1976|   MA|               Foreman|    Female|        1773|   Other|   Divorced|      Fully Meets|                      3|   11/08/2018|\n",
      "| 3592|    Andre|        Guzman|05-Oct-21|18-Jun-22|Production Techni...|Mrs. Audrey Gonza...|         TNS|    Future Start|    Contract| Zone B|                 Full-Time|      Voluntary|Production       |    Field Operations|23-12-1998|   MA|            Technician|      Male|        9454|   Other|     Single|      Fully Meets|                      3|   05/10/2021|\n",
      "| 3703|  Addisyn|      Guerrero|31-Aug-20|26-Jun-22|Production Techni...|            Cory Lee|          EW|          Active|   Part-Time| Zone A|                 Part-Time|    Resignation|Production       |           Engineers|15-02-1951|   MA|              Engineer|    Female|       87563|   White|    Widowed|          Exceeds|                      4|   31/08/2020|\n",
      "| 3525|  Clayton|     Mccormick|03-Jul-22|10-Jan-23|  Area Sales Manager|      Stephanie Duke|         MSC|    Future Start|    Contract| Zone B|                 Temporary|     Retirement|            Sales|       General - Con|29-01-1967|   TX|               Foreman|      Male|       72264|Hispanic|     Single|      Fully Meets|                      2|   03/07/2022|\n",
      "| 3814|    Jyoti|        Lajiri|07-Jan-19|05-Sep-20|Sr. Network Engineer|      Karen Crawford|          EW|Leave of Absence|   Part-Time| Zone C|                 Full-Time|     Retirement|            IT/IS|           Engineers|17-04-1955|   MA|           Coordinator|      Male|        2169|   Black|    Widowed|      Fully Meets|                      3|   07/01/2019|\n",
      "| 3822|  Katrina|       Lambert|24-Sep-19|04-Apr-22|    Network Engineer|   Calvin Williamson|         WBL|          Active|   Full-Time| Zone B|                 Part-Time|     Retirement| Executive Office|       General - Con|18-09-1975|   MA|            Technician|      Male|       56727|Hispanic|   Divorced|      Fully Meets|                      3|   24/09/2019|\n",
      "| 3766|    Elisa|         Henry|02-Feb-19|03-Feb-23|Production Techni...|       Taylor Morris|         PYZ|          Active|   Part-Time| Zone A|                 Part-Time|    Resignation|Production       |Yard (Material Ha...|10-03-1943|   MA|               Manager|    Female|       10110|   Black|    Widowed|      Fully Meets|                      3|   02/02/2019|\n",
      "| 3807|    Mayra|          Moss|15-Sep-21|10-Nov-21|Production Techni...|        George Doyle|          EW|          Active|    Contract| Zone C|                 Temporary|    Resignation|Production       |Project Managemen...|16-05-1964|   MA|               Manager|      Male|       84074|   Asian|     Single|      Fully Meets|                      3|   15/09/2021|\n",
      "| 3512|   Tyrone|          Sosa|17-Apr-23|22-Jun-23|  Area Sales Manager|       Lindsay Chang|         NEL|    Future Start|    Contract| Zone C|                 Temporary|      Voluntary|            Sales|Yard (Material Ha...|25-10-1996|   TX|           Coordinator|    Female|       58860|   Black|     Single|      Fully Meets|                      2|   17/04/2023|\n",
      "| 3541|    Aaron|         Weber|06-Apr-20|24-Jul-23|  Area Sales Manager|      Melanie Garcia|         SVG|          Active|   Full-Time| Zone B|                 Full-Time|    Involuntary|            Sales|    Field Operations|27-10-1991|   IN|            Technician|      Male|       78938|   Black|    Married|          Exceeds|                      2|   06/04/2020|\n",
      "| 3675|    Mario|          Mays|08-Jun-20|29-Dec-22|Production Techni...|      Melissa Torres|        CCDR|          Active|   Full-Time| Zone C|                 Full-Time|    Resignation|Production       |           Engineers|28-08-1952|   MA|            Technician|    Female|       70090|Hispanic|   Divorced|      Fully Meets|                      3|   08/06/2020|\n",
      "| 3518|  Roberto|       Michael|10-Apr-21|04-Jul-22|  Area Sales Manager|        Cheryl Henry|         MSC|          Active|    Contract| Zone B|                 Part-Time|    Involuntary|            Sales|       General - Eng|24-05-1969|   CA|           Coordinator|    Female|       13249|Hispanic|    Married|      Fully Meets|                      2|   10/04/2021|\n",
      "+-----+---------+--------------+---------+---------+--------------------+--------------------+------------+----------------+------------+-------+--------------------------+---------------+-----------------+--------------------+----------+-----+----------------------+----------+------------+--------+-----------+-----------------+-----------------------+-------------+\n",
      "only showing top 20 rows\n",
      "\n"
     ]
    }
   ],
   "source": [
    "from pyspark.sql.functions import to_date, date_format\n",
    "df = df.withColumn(\"FormattedDate\", date_format(to_date(\"StartDate\", \"dd-MMM-yy\"), \"dd/MM/yyyy\"))\n",
    "df.show()"
   ]
  },
  {
   "cell_type": "code",
   "execution_count": 60,
   "id": "17f9bde6",
   "metadata": {},
   "outputs": [],
   "source": [
    "pandas_df = df.toPandas()\n",
    "pandas_df[\"FormattedDate\"] = pandas_df[\"FormattedDate\"].astype(str)\n",
    "pandas_df.to_csv(output_path, index=False)"
   ]
  },
  {
   "cell_type": "code",
   "execution_count": 61,
   "id": "81ab21aa",
   "metadata": {},
   "outputs": [
    {
     "name": "stdout",
     "output_type": "stream",
     "text": [
      "+-----+---------+--------------+---------+---------+--------------------+--------------------+------------+----------------+------------+-------+--------------------------+---------------+-----------------+--------------------+----------+-----+----------------------+----------+------------+--------+-----------+-----------------+-----------------------+-------------+\n",
      "|EmpID|FirstName|      LastName|StartDate| ExitDate|               Title|          Supervisor|BusinessUnit|  EmployeeStatus|EmployeeType|PayZone|EmployeeClassificationType|TerminationType|   DepartmentType|            Division|       DOB|State|JobFunctionDescription|GenderCode|LocationCode|RaceDesc|MaritalDesc|Performance Score|Current Employee Rating|FormattedDate|\n",
      "+-----+---------+--------------+---------+---------+--------------------+--------------------+------------+----------------+------------+-------+--------------------------+---------------+-----------------+--------------------+----------+-----+----------------------+----------+------------+--------+-----------+-----------------+-----------------------+-------------+\n",
      "| 3461|  Lincoln|       Compton|18-Jul-19|01-Oct-21|  Area Sales Manager|        Tammy Conner|          EW|    Future Start|   Full-Time| Zone C|                 Part-Time|    Resignation|            Sales|       General - Con|29-12-1997|   CO|               Foreman|      Male|       78046|Hispanic|    Married|Needs Improvement|                      1|   18/07/2019|\n",
      "| 3736|   Carsen|       Wheeler|18-Oct-20|22-Mar-23|Production Techni...|       Kimberly Soto|         SVG|          Active|   Full-Time| Zone A|                 Part-Time|    Resignation|Production       |Wireline Construc...|02-07-1976|   MA|               Laborer|      Male|       95345|   Other|    Married|      Fully Meets|                      2|   18/10/2020|\n",
      "| 3928|  Audrina|            Yu|27-Jan-21|18-Oct-21|    Network Engineer|       Walter Powell|         TNS|          Active|   Full-Time| Zone A|                 Temporary|    Resignation|            IT/IS|       General - Con|11-07-1956|   MA|               Laborer|      Male|       59834|   White|    Widowed|      Fully Meets|                      3|   27/01/2021|\n",
      "| 3574|     Anna|Von Massenbach|18-May-21|04-Jan-22|Production Techni...|      Timothy Weaver|         WBL|    Future Start|    Contract| Zone B|                 Full-Time|    Involuntary|Production       |         Underground|06-05-1951|   MA|               Laborer|    Female|        2124|Hispanic|    Widowed|      Fully Meets|                      1|   18/05/2021|\n",
      "| 3883|    Noemi|        Brewer|06-May-22|26-Sep-22|          IT Support|      Jacob Hamilton|         BPC|          Active|    Contract| Zone B|                 Full-Time|    Involuntary|            IT/IS|    Field Operations|16-06-1991|   MA|         Administrator|    Female|       11294|   White|    Widowed|      Fully Meets|                      3|   06/05/2022|\n",
      "| 3847|  Gilbert|         Klein|24-Feb-19|11-Jun-20|          IT Support|   Gregory Rodriguez|          PL|          Active|   Part-Time| Zone B|                 Temporary|     Retirement|            IT/IS|    Field Operations|06-09-1998|   MA|               Laborer|      Male|       53800|Hispanic|     Single|      Fully Meets|                      3|   24/02/2019|\n",
      "| 3879|     Liam|         Hanna|08-Feb-19|24-Feb-23|    Network Engineer|       Brian Aguirre|         PYZ|          Active|   Full-Time| Zone C|                 Part-Time|    Involuntary|            IT/IS|    Field Operations|13-01-1996|   MA|                 Clerk|      Male|       16655|Hispanic|    Married|      Fully Meets|                      3|   08/02/2019|\n",
      "| 3893|    Lukas|       Freeman|22-Mar-23|28-Jul-23|          IT Support|     Allison Shannon|          EW|          Active|   Full-Time| Zone B|                 Part-Time|    Involuntary|            IT/IS|       General - Con|15-04-1953|   MA|               Laborer|    Female|       68298|   Asian|    Married|      Fully Meets|                      3|   22/03/2023|\n",
      "| 3820|    Anita|       Shepard|11-Aug-18|21-May-21|    Network Engineer|         George Tran|          EW|          Active|    Contract| Zone C|                 Full-Time|      Voluntary|            IT/IS|       General - Con|29-09-1976|   MA|               Foreman|    Female|        1773|   Other|   Divorced|      Fully Meets|                      3|   11/08/2018|\n",
      "| 3592|    Andre|        Guzman|05-Oct-21|18-Jun-22|Production Techni...|Mrs. Audrey Gonza...|         TNS|    Future Start|    Contract| Zone B|                 Full-Time|      Voluntary|Production       |    Field Operations|23-12-1998|   MA|            Technician|      Male|        9454|   Other|     Single|      Fully Meets|                      3|   05/10/2021|\n",
      "| 3703|  Addisyn|      Guerrero|31-Aug-20|26-Jun-22|Production Techni...|            Cory Lee|          EW|          Active|   Part-Time| Zone A|                 Part-Time|    Resignation|Production       |           Engineers|15-02-1951|   MA|              Engineer|    Female|       87563|   White|    Widowed|          Exceeds|                      4|   31/08/2020|\n",
      "| 3525|  Clayton|     Mccormick|03-Jul-22|10-Jan-23|  Area Sales Manager|      Stephanie Duke|         MSC|    Future Start|    Contract| Zone B|                 Temporary|     Retirement|            Sales|       General - Con|29-01-1967|   TX|               Foreman|      Male|       72264|Hispanic|     Single|      Fully Meets|                      2|   03/07/2022|\n",
      "| 3814|    Jyoti|        Lajiri|07-Jan-19|05-Sep-20|Sr. Network Engineer|      Karen Crawford|          EW|Leave of Absence|   Part-Time| Zone C|                 Full-Time|     Retirement|            IT/IS|           Engineers|17-04-1955|   MA|           Coordinator|      Male|        2169|   Black|    Widowed|      Fully Meets|                      3|   07/01/2019|\n",
      "| 3822|  Katrina|       Lambert|24-Sep-19|04-Apr-22|    Network Engineer|   Calvin Williamson|         WBL|          Active|   Full-Time| Zone B|                 Part-Time|     Retirement| Executive Office|       General - Con|18-09-1975|   MA|            Technician|      Male|       56727|Hispanic|   Divorced|      Fully Meets|                      3|   24/09/2019|\n",
      "| 3766|    Elisa|         Henry|02-Feb-19|03-Feb-23|Production Techni...|       Taylor Morris|         PYZ|          Active|   Part-Time| Zone A|                 Part-Time|    Resignation|Production       |Yard (Material Ha...|10-03-1943|   MA|               Manager|    Female|       10110|   Black|    Widowed|      Fully Meets|                      3|   02/02/2019|\n",
      "| 3807|    Mayra|          Moss|15-Sep-21|10-Nov-21|Production Techni...|        George Doyle|          EW|          Active|    Contract| Zone C|                 Temporary|    Resignation|Production       |Project Managemen...|16-05-1964|   MA|               Manager|      Male|       84074|   Asian|     Single|      Fully Meets|                      3|   15/09/2021|\n",
      "| 3512|   Tyrone|          Sosa|17-Apr-23|22-Jun-23|  Area Sales Manager|       Lindsay Chang|         NEL|    Future Start|    Contract| Zone C|                 Temporary|      Voluntary|            Sales|Yard (Material Ha...|25-10-1996|   TX|           Coordinator|    Female|       58860|   Black|     Single|      Fully Meets|                      2|   17/04/2023|\n",
      "| 3541|    Aaron|         Weber|06-Apr-20|24-Jul-23|  Area Sales Manager|      Melanie Garcia|         SVG|          Active|   Full-Time| Zone B|                 Full-Time|    Involuntary|            Sales|    Field Operations|27-10-1991|   IN|            Technician|      Male|       78938|   Black|    Married|          Exceeds|                      2|   06/04/2020|\n",
      "| 3675|    Mario|          Mays|08-Jun-20|29-Dec-22|Production Techni...|      Melissa Torres|        CCDR|          Active|   Full-Time| Zone C|                 Full-Time|    Resignation|Production       |           Engineers|28-08-1952|   MA|            Technician|    Female|       70090|Hispanic|   Divorced|      Fully Meets|                      3|   08/06/2020|\n",
      "| 3518|  Roberto|       Michael|10-Apr-21|04-Jul-22|  Area Sales Manager|        Cheryl Henry|         MSC|          Active|    Contract| Zone B|                 Part-Time|    Involuntary|            Sales|       General - Eng|24-05-1969|   CA|           Coordinator|    Female|       13249|Hispanic|    Married|      Fully Meets|                      2|   10/04/2021|\n",
      "+-----+---------+--------------+---------+---------+--------------------+--------------------+------------+----------------+------------+-------+--------------------------+---------------+-----------------+--------------------+----------+-----+----------------------+----------+------------+--------+-----------+-----------------+-----------------------+-------------+\n",
      "only showing top 20 rows\n",
      "\n"
     ]
    }
   ],
   "source": [
    "df.show()"
   ]
  },
  {
   "cell_type": "code",
   "execution_count": null,
   "id": "e2c225e5",
   "metadata": {},
   "outputs": [],
   "source": []
  }
 ],
 "metadata": {
  "kernelspec": {
   "display_name": "gpu",
   "language": "python",
   "name": "gpu"
  },
  "language_info": {
   "codemirror_mode": {
    "name": "ipython",
    "version": 3
   },
   "file_extension": ".py",
   "mimetype": "text/x-python",
   "name": "python",
   "nbconvert_exporter": "python",
   "pygments_lexer": "ipython3",
   "version": "3.9.16"
  }
 },
 "nbformat": 4,
 "nbformat_minor": 5
}
