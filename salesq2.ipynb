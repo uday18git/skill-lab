{
 "cells": [
  {
   "cell_type": "code",
   "execution_count": 1,
   "id": "ab87c8cb",
   "metadata": {},
   "outputs": [],
   "source": [
    "from pyspark.sql import SparkSession\n",
    "from pyspark.sql.functions import *"
   ]
  },
  {
   "cell_type": "code",
   "execution_count": 25,
   "id": "1509493b",
   "metadata": {},
   "outputs": [],
   "source": [
    "import pandas as pd"
   ]
  },
  {
   "cell_type": "code",
   "execution_count": 13,
   "id": "093808f6",
   "metadata": {},
   "outputs": [
    {
     "name": "stdout",
     "output_type": "stream",
     "text": [
      "root\n",
      " |-- _c0: integer (nullable = true)\n",
      " |-- Order ID: integer (nullable = true)\n",
      " |-- Product: string (nullable = true)\n",
      " |-- Quantity Ordered: integer (nullable = true)\n",
      " |-- Price Each: double (nullable = true)\n",
      " |-- Order Date: string (nullable = true)\n",
      " |-- Purchase Address: string (nullable = true)\n",
      " |-- Month: integer (nullable = true)\n",
      " |-- Sales: double (nullable = true)\n",
      " |-- City: string (nullable = true)\n",
      " |-- Hour: integer (nullable = true)\n",
      "\n",
      "+---+--------+--------------------+----------------+----------+----------------+--------------------+-----+------+--------------+----+\n",
      "|_c0|Order ID|             Product|Quantity Ordered|Price Each|      Order Date|    Purchase Address|Month| Sales|          City|Hour|\n",
      "+---+--------+--------------------+----------------+----------+----------------+--------------------+-----+------+--------------+----+\n",
      "|  0|  295665|  Macbook Pro Laptop|               1|    1700.0|30-12-2019 00:01|136 Church St, Ne...|   12|1700.0| New York City|   0|\n",
      "|  1|  295666|  LG Washing Machine|               1|     600.0|29-12-2019 07:03|562 2nd St, New Y...|   12| 600.0| New York City|   7|\n",
      "|  2|  295667|USB-C Charging Cable|               1|     11.95|12-12-2019 18:21|277 Main St, New ...|   12| 11.95| New York City|  18|\n",
      "|  3|  295668|    27in FHD Monitor|               1|    149.99|22-12-2019 15:13|410 6th St, San F...|   12|149.99| San Francisco|  15|\n",
      "|  4|  295669|USB-C Charging Cable|               1|     11.95|18-12-2019 12:38|43 Hill St, Atlan...|   12| 11.95|       Atlanta| -12|\n",
      "|  5|  295670|AA Batteries (4-p...|               1|      3.84|31-12-2019 22:58|200 Jefferson St,...|   12|  NULL| New York City| 122|\n",
      "|  6|  295671|USB-C Charging Cable|               1|     11.95|16-12-2019 15:10|928 12th St, Port...|   12| 11.95|      Portland|  15|\n",
      "|  7|  295672|USB-C Charging Cable|               2|     11.95|13-12-2019 09:29|813 Hickory St, D...|   12|  23.9|        Dallas|   9|\n",
      "|  8|  295673|Bose SoundSport H...|               1|     99.99|15-12-2019 23:26|718 Wilson St, Da...|   12| 99.99|        Dallas|  23|\n",
      "|  9|  295674|AAA Batteries (4-...|               4|      2.99|28-12-2019 11:51|77 7th St, Dallas...|   12| 11.96|        Dallas|  11|\n",
      "| 10|  295675|USB-C Charging Cable|               2|     11.95|13-12-2019 13:52|594 1st St, San F...|   12|  23.9| San Francisco|  13|\n",
      "| 11|  295676|     ThinkPad Laptop|               1|    999.99|28-12-2019 17:19|410 Lincoln St, L...|   12|999.99|   Los Angeles|  17|\n",
      "| 12|  295677|AA Batteries (4-p...|               2|      3.84|20-12-2019 19:19|866 Pine St, Bost...|   12|  7.68|        Boston| -19|\n",
      "| 13|  295678|AAA Batteries (4-...|               2|      2.99|06-12-2019 09:38|187 Lincoln St, D...|   12|  5.98|        Dallas|   9|\n",
      "| 14|  295679|USB-C Charging Cable|               1|     11.95|25-12-2019 09:39|902 2nd St, Dalla...|   12| 11.95|        Dallas|   9|\n",
      "| 15|  295680|Lightning Chargin...|               1|     14.95|01-12-2019 14:30|338 Main St, Aust...|   12| 14.95|        Austin|  14|\n",
      "| 16|  295681|        Google Phone|               1|     600.0|25-12-2019 12:37|79 Elm St, Boston...|   12| 600.0|        Boston|  12|\n",
      "| 17|  295681|USB-C Charging Cable|               1|     11.95|25-12-2019 12:37|79 Elm St, Boston...|   12|  NULL|        Boston|  12|\n",
      "| 18|  295681|Bose SoundSport H...|               1|     99.99|25-12-2019 12:37|79 Elm St, Boston...|   12| 99.99|        Boston|  12|\n",
      "| 19|  295681|    Wired Headphones|               1|     11.99|25-12-2019 12:37|79 Elm St, Boston...|   12| 11.99|        Boston|  12|\n",
      "+---+--------+--------------------+----------------+----------+----------------+--------------------+-----+------+--------------+----+\n",
      "only showing top 20 rows\n",
      "\n"
     ]
    }
   ],
   "source": [
    "spark = SparkSession.builder.appName(\"q2\").getOrCreate()\n",
    "file_path = \"Sales data.csv\"\n",
    "df = spark.read.csv(file_path,header=True,inferSchema=True)\n",
    "df.printSchema()\n",
    "df.show()"
   ]
  },
  {
   "cell_type": "code",
   "execution_count": 14,
   "id": "5b3d8bcc",
   "metadata": {},
   "outputs": [
    {
     "name": "stdout",
     "output_type": "stream",
     "text": [
      "+---+--------+-------+----------------+----------+----------+----------------+-----+-----+----+----+\n",
      "|_c0|Order ID|Product|Quantity Ordered|Price Each|Order Date|Purchase Address|Month|Sales|City|Hour|\n",
      "+---+--------+-------+----------------+----------+----------+----------------+-----+-----+----+----+\n",
      "|  0|       0|      0|               0|         0|         0|               0|    0|    3|   0|   0|\n",
      "+---+--------+-------+----------------+----------+----------+----------------+-----+-----+----+----+\n",
      "\n"
     ]
    }
   ],
   "source": [
    "#Verify that all columns are properly loaded, and check for any unexpected null or \n",
    "# malformed entries during loading. \n",
    "missing_values = df.select([count(when(isnull(c), c)).alias(c) for c in df.columns])\n",
    "\n",
    "\n",
    "missing_values.show()"
   ]
  },
  {
   "cell_type": "code",
   "execution_count": 15,
   "id": "bd17e99b",
   "metadata": {},
   "outputs": [],
   "source": [
    "# 1. Use PySpark to identify columns with missing values and decide whether to fill or \n",
    "# remove them. For numerical columns like Sales or Quantity Ordered, you may want \n",
    "# to fill missing values with the mean or median, or drop rows with missing values.\n",
    "\n",
    "numerical_columns = [\"Sales\"]\n",
    "for column in numerical_columns:\n",
    "    mean_value = df.select(mean(col(column))).first()[0]\n",
    "    df = df.fillna({column:mean_value})\n",
    "\n",
    "critical_columns = [\"Order ID\", \"Product\", \"Order Date\"]\n",
    "df = df.dropna(subset=critical_columns)\n"
   ]
  },
  {
   "cell_type": "code",
   "execution_count": 17,
   "id": "0a1776c0",
   "metadata": {},
   "outputs": [
    {
     "data": {
      "text/plain": [
       "185950"
      ]
     },
     "execution_count": 17,
     "metadata": {},
     "output_type": "execute_result"
    }
   ],
   "source": [
    "df.count()"
   ]
  },
  {
   "cell_type": "code",
   "execution_count": 16,
   "id": "ec9bf728",
   "metadata": {},
   "outputs": [],
   "source": [
    "df = df.dropDuplicates()"
   ]
  },
  {
   "cell_type": "code",
   "execution_count": 18,
   "id": "bbe6ee4b",
   "metadata": {},
   "outputs": [
    {
     "name": "stdout",
     "output_type": "stream",
     "text": [
      "root\n",
      " |-- _c0: integer (nullable = true)\n",
      " |-- Order ID: integer (nullable = true)\n",
      " |-- Product: string (nullable = true)\n",
      " |-- Quantity Ordered: integer (nullable = true)\n",
      " |-- Price Each: double (nullable = true)\n",
      " |-- Order Date: string (nullable = true)\n",
      " |-- Purchase Address: string (nullable = true)\n",
      " |-- Month: integer (nullable = true)\n",
      " |-- Sales: double (nullable = false)\n",
      " |-- City: string (nullable = true)\n",
      " |-- Hour: integer (nullable = true)\n",
      "\n"
     ]
    }
   ],
   "source": [
    "df.printSchema()"
   ]
  },
  {
   "cell_type": "code",
   "execution_count": 19,
   "id": "f5f31bd7",
   "metadata": {},
   "outputs": [
    {
     "name": "stdout",
     "output_type": "stream",
     "text": [
      "root\n",
      " |-- _c0: integer (nullable = true)\n",
      " |-- Order ID: integer (nullable = true)\n",
      " |-- Product: string (nullable = true)\n",
      " |-- Quantity Ordered: integer (nullable = true)\n",
      " |-- Price Each: double (nullable = true)\n",
      " |-- Order Date: string (nullable = true)\n",
      " |-- Purchase Address: string (nullable = true)\n",
      " |-- Month: integer (nullable = true)\n",
      " |-- Sales: double (nullable = false)\n",
      " |-- City: string (nullable = true)\n",
      " |-- Hour: integer (nullable = true)\n",
      "\n"
     ]
    }
   ],
   "source": [
    "df = df.withColumn(\"Quantity Ordered\", col(\"Quantity Ordered\").cast(\"integer\")) \\\n",
    "       .withColumn(\"Price Each\", col(\"Price Each\").cast(\"double\")) \\\n",
    "       .withColumn(\"Sales\", col(\"Sales\").cast(\"double\"))\n",
    "df.printSchema()"
   ]
  },
  {
   "cell_type": "code",
   "execution_count": 20,
   "id": "5d49038d",
   "metadata": {},
   "outputs": [],
   "source": [
    "df = df.filter((col(\"Sales\") >= 0) & (col(\"Price Each\") >= 0) & (col(\"Quantity Ordered\") >= 0))"
   ]
  },
  {
   "cell_type": "code",
   "execution_count": 21,
   "id": "cb2ed260",
   "metadata": {},
   "outputs": [
    {
     "data": {
      "text/plain": [
       "185950"
      ]
     },
     "execution_count": 21,
     "metadata": {},
     "output_type": "execute_result"
    }
   ],
   "source": [
    "df.count()"
   ]
  },
  {
   "cell_type": "code",
   "execution_count": 24,
   "id": "1d0645ae",
   "metadata": {},
   "outputs": [
    {
     "name": "stdout",
     "output_type": "stream",
     "text": [
      "+--------------------+------------------+\n",
      "|             Product|       Total Sales|\n",
      "+--------------------+------------------+\n",
      "|    Wired Headphones|246651.93375999868|\n",
      "|  Macbook Pro Laptop|         8037600.0|\n",
      "|Apple Airpods Hea...|         2349150.0|\n",
      "|              iPhone|         4794300.0|\n",
      "|Lightning Chargin...|347094.15000000864|\n",
      "|Bose SoundSport H...|1345565.4300000193|\n",
      "|USB-C Charging Cable|286674.79376000515|\n",
      "|AAA Batteries (4-...| 92740.82999999696|\n",
      "|        20in Monitor|454148.71000000136|\n",
      "|    27in FHD Monitor|1132424.5000000084|\n",
      "|     Vareebadd Phone|          827200.0|\n",
      "|34in Ultrawide Mo...|  2355558.00999999|\n",
      "|            LG Dryer|          387600.0|\n",
      "|AA Batteries (4-p...| 106300.0537599985|\n",
      "|        Google Phone|         3319200.0|\n",
      "|       Flatscreen TV|         1445700.0|\n",
      "|  LG Washing Machine|          399600.0|\n",
      "|27in 4K Gaming Mo...| 2435097.559999989|\n",
      "|     ThinkPad Laptop|4129958.6999999797|\n",
      "+--------------------+------------------+\n",
      "\n"
     ]
    }
   ],
   "source": [
    "total_sales_by_product = df.groupBy(\"Product\").agg(sum(\"Sales\").alias(\"Total Sales\"))\n",
    "total_sales_by_product.show()"
   ]
  },
  {
   "cell_type": "code",
   "execution_count": 26,
   "id": "625e9697",
   "metadata": {},
   "outputs": [],
   "source": [
    "output_path= \"Sales data.csv\"\n",
    "pandas_df = df.toPandas()\n",
    "pandas_df.to_csv(output_path, index=False)"
   ]
  },
  {
   "cell_type": "code",
   "execution_count": 35,
   "id": "b55f9c37",
   "metadata": {},
   "outputs": [
    {
     "name": "stdout",
     "output_type": "stream",
     "text": [
      "_c0                 0\n",
      "Order ID            0\n",
      "Product             0\n",
      "Quantity Ordered    0\n",
      "Price Each          0\n",
      "Order Date          0\n",
      "Purchase Address    0\n",
      "Month               0\n",
      "Sales               0\n",
      "City                0\n",
      "Hour                0\n",
      "dtype: int64\n"
     ]
    }
   ],
   "source": [
    "print(pandas_df.isnull().sum())"
   ]
  },
  {
   "cell_type": "code",
   "execution_count": null,
   "id": "e4e13f51",
   "metadata": {},
   "outputs": [],
   "source": []
  }
 ],
 "metadata": {
  "kernelspec": {
   "display_name": "gpu",
   "language": "python",
   "name": "gpu"
  },
  "language_info": {
   "codemirror_mode": {
    "name": "ipython",
    "version": 3
   },
   "file_extension": ".py",
   "mimetype": "text/x-python",
   "name": "python",
   "nbconvert_exporter": "python",
   "pygments_lexer": "ipython3",
   "version": "3.9.16"
  }
 },
 "nbformat": 4,
 "nbformat_minor": 5
}
