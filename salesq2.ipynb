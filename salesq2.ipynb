{
 "cells": [
  {
   "cell_type": "code",
   "execution_count": 1,
   "id": "ab87c8cb",
   "metadata": {},
   "outputs": [],
   "source": [
    "from pyspark.sql import SparkSession\n",
    "from pyspark.sql.functions import *"
   ]
  },
  {
   "cell_type": "code",
   "execution_count": 2,
   "id": "1509493b",
   "metadata": {},
   "outputs": [],
   "source": [
    "import pandas as pd"
   ]
  },
  {
   "cell_type": "code",
   "execution_count": 3,
   "id": "093808f6",
   "metadata": {},
   "outputs": [
    {
     "name": "stdout",
     "output_type": "stream",
     "text": [
      "root\n",
      " |-- _c0: integer (nullable = true)\n",
      " |-- Order ID: integer (nullable = true)\n",
      " |-- Product: string (nullable = true)\n",
      " |-- Quantity Ordered: integer (nullable = true)\n",
      " |-- Price Each: double (nullable = true)\n",
      " |-- Order Date: string (nullable = true)\n",
      " |-- Purchase Address: string (nullable = true)\n",
      " |-- Month: integer (nullable = true)\n",
      " |-- Sales: double (nullable = true)\n",
      " |-- City: string (nullable = true)\n",
      " |-- Hour: integer (nullable = true)\n",
      "\n",
      "+----+--------+--------------------+----------------+----------+----------------+--------------------+-----+------+--------------+----+\n",
      "| _c0|Order ID|             Product|Quantity Ordered|Price Each|      Order Date|    Purchase Address|Month| Sales|          City|Hour|\n",
      "+----+--------+--------------------+----------------+----------+----------------+--------------------+-----+------+--------------+----+\n",
      "| 297|  295941|     ThinkPad Laptop|               1|    999.99|31-12-2019 16:24|64 Dogwood St, Po...|   12|999.99|      Portland|  16|\n",
      "| 464|  296105|Lightning Chargin...|               1|     14.95|29-12-2019 17:57|134 Dogwood St, S...|   12| 14.95| San Francisco|  17|\n",
      "| 532|  296169|              iPhone|               1|     700.0|10-12-2019 22:31|111 Hickory St, S...|   12| 700.0|       Seattle|  22|\n",
      "| 628|  296263|    Wired Headphones|               1|     11.99|11-12-2019 18:04|229 Pine St, San ...|   12| 11.99| San Francisco|  18|\n",
      "| 721|  296351|     ThinkPad Laptop|               1|    999.99|24-12-2019 17:57|168 10th St, Port...|   12|999.99|      Portland|  17|\n",
      "|1203|  296811|34in Ultrawide Mo...|               1|    379.99|10-12-2019 07:39|485 11th St, Port...|   12|379.99|      Portland|   7|\n",
      "|1395|  296992|Apple Airpods Hea...|               1|     150.0|09-12-2019 18:46|410 Washington St...|   12| 150.0|        Dallas|  18|\n",
      "|1414|  297009|  Macbook Pro Laptop|               1|    1700.0|16-12-2019 08:07|779 Maple St, San...|   12|1700.0| San Francisco|   8|\n",
      "|1431|  297025|34in Ultrawide Mo...|               1|    379.99|18-12-2019 12:04|836 Forest St, Bo...|   12|379.99|        Boston|  12|\n",
      "|1670|  297251|              iPhone|               1|     700.0|19-12-2019 20:19|835 Main St, Aust...|   12| 700.0|        Austin|  20|\n",
      "|1782|  297356|27in 4K Gaming Mo...|               1|    389.99|18-12-2019 22:01|769 14th St, Dall...|   12|389.99|        Dallas|  22|\n",
      "|1982|  297548|USB-C Charging Cable|               1|     11.95|27-12-2019 23:04|24 Pine St, New Y...|   12| 11.95| New York City|  23|\n",
      "|2037|  297596|       Flatscreen TV|               1|     300.0|10-12-2019 18:45|301 13th St, Los ...|   12| 300.0|   Los Angeles|  18|\n",
      "|2563|  298104|AA Batteries (4-p...|               1|      3.84|16-12-2019 22:30|955 Johnson St, L...|   12|  3.84|   Los Angeles|  22|\n",
      "|2746|  298285|Lightning Chargin...|               1|     14.95|21-12-2019 12:19|966 Lincoln St, S...|   12| 14.95| San Francisco|  12|\n",
      "|2887|  298422|Lightning Chargin...|               1|     14.95|19-12-2019 20:24|249 Wilson St, Da...|   12| 14.95|        Dallas|  20|\n",
      "|3431|  298934|    Wired Headphones|               1|     11.99|11-12-2019 10:28|400 Highland St, ...|   12| 11.99|       Seattle|  10|\n",
      "|3469|  298972|    Wired Headphones|               1|     11.99|06-12-2019 14:32|80 Elm St, Los An...|   12| 11.99|   Los Angeles|  14|\n",
      "|4135|  299597|Bose SoundSport H...|               1|     99.99|05-12-2019 10:29|606 Willow St, Ne...|   12| 99.99| New York City|  10|\n",
      "|4244|  299700|AA Batteries (4-p...|               1|      3.84|20-12-2019 06:34|371 Cedar St, Dal...|   12|  3.84|        Dallas|   6|\n",
      "+----+--------+--------------------+----------------+----------+----------------+--------------------+-----+------+--------------+----+\n",
      "only showing top 20 rows\n",
      "\n"
     ]
    }
   ],
   "source": [
    "spark = SparkSession.builder.appName(\"q2\").getOrCreate()\n",
    "file_path = \"Sales data.csv\"\n",
    "df = spark.read.csv(file_path,header=True,inferSchema=True)\n",
    "df.printSchema()\n",
    "df.show()"
   ]
  },
  {
   "cell_type": "code",
   "execution_count": 4,
   "id": "5b3d8bcc",
   "metadata": {},
   "outputs": [
    {
     "name": "stdout",
     "output_type": "stream",
     "text": [
      "+---+--------+-------+----------------+----------+----------+----------------+-----+-----+----+----+\n",
      "|_c0|Order ID|Product|Quantity Ordered|Price Each|Order Date|Purchase Address|Month|Sales|City|Hour|\n",
      "+---+--------+-------+----------------+----------+----------+----------------+-----+-----+----+----+\n",
      "|  0|       0|      0|               0|         0|         0|               0|    0|    0|   0|   0|\n",
      "+---+--------+-------+----------------+----------+----------+----------------+-----+-----+----+----+\n",
      "\n"
     ]
    }
   ],
   "source": [
    "#Verify that all columns are properly loaded, and check for any unexpected null or \n",
    "# malformed entries during loading. \n",
    "missing_values = df.select([count(when(isnull(c) | isnan(c) , c)).alias(c) for c in df.columns])\n",
    "missing_values.show()"
   ]
  },
  {
   "cell_type": "code",
   "execution_count": 1,
   "id": "bd17e99b",
   "metadata": {},
   "outputs": [
    {
     "ename": "NameError",
     "evalue": "name 'df' is not defined",
     "output_type": "error",
     "traceback": [
      "\u001b[1;31m---------------------------------------------------------------------------\u001b[0m",
      "\u001b[1;31mNameError\u001b[0m                                 Traceback (most recent call last)",
      "Cell \u001b[1;32mIn[1], line 7\u001b[0m\n\u001b[0;32m      1\u001b[0m \u001b[38;5;66;03m# 1. Use PySpark to identify columns with missing values and decide whether to fill or \u001b[39;00m\n\u001b[0;32m      2\u001b[0m \u001b[38;5;66;03m# remove them. For numerical columns like Sales or Quantity Ordered, you may want \u001b[39;00m\n\u001b[0;32m      3\u001b[0m \u001b[38;5;66;03m# to fill missing values with the mean or median, or drop rows with missing values.\u001b[39;00m\n\u001b[0;32m      4\u001b[0m \n\u001b[0;32m      5\u001b[0m \u001b[38;5;66;03m# numerical_columns = [\"Sales\"]\u001b[39;00m\n\u001b[0;32m      6\u001b[0m \u001b[38;5;66;03m# for column in numerical_columns:\u001b[39;00m\n\u001b[1;32m----> 7\u001b[0m mean_value \u001b[38;5;241m=\u001b[39m \u001b[43mdf\u001b[49m\u001b[38;5;241m.\u001b[39mselect(mean(col(\u001b[38;5;124m'\u001b[39m\u001b[38;5;124mSales\u001b[39m\u001b[38;5;124m'\u001b[39m)))\u001b[38;5;241m.\u001b[39mfirst()[\u001b[38;5;241m0\u001b[39m]\n\u001b[0;32m      8\u001b[0m df \u001b[38;5;241m=\u001b[39m df\u001b[38;5;241m.\u001b[39mfillna({\u001b[38;5;124m'\u001b[39m\u001b[38;5;124mSales\u001b[39m\u001b[38;5;124m'\u001b[39m:mean_value})\n\u001b[0;32m     10\u001b[0m critical_columns \u001b[38;5;241m=\u001b[39m [\u001b[38;5;124m\"\u001b[39m\u001b[38;5;124mOrder ID\u001b[39m\u001b[38;5;124m\"\u001b[39m, \u001b[38;5;124m\"\u001b[39m\u001b[38;5;124mProduct\u001b[39m\u001b[38;5;124m\"\u001b[39m, \u001b[38;5;124m\"\u001b[39m\u001b[38;5;124mOrder Date\u001b[39m\u001b[38;5;124m\"\u001b[39m]\n",
      "\u001b[1;31mNameError\u001b[0m: name 'df' is not defined"
     ]
    }
   ],
   "source": [
    "# 1. Use PySpark to identify columns with missing values and decide whether to fill or \n",
    "# remove them. For numerical columns like Sales or Quantity Ordered, you may want \n",
    "# to fill missing values with the mean or median, or drop rows with missing values.\n",
    "\n",
    "# numerical_columns = [\"Sales\"]\n",
    "# for column in numerical_columns:\n",
    "mean_value = df.select(mean(col('Sales'))).first()[0]\n",
    "df = df.fillna({'Sales':mean_value})\n",
    "\n",
    "critical_columns = [\"Order ID\", \"Product\", \"Order Date\"]\n",
    "df = df.dropna(subset=critical_columns)\n"
   ]
  },
  {
   "cell_type": "code",
   "execution_count": 17,
   "id": "0a1776c0",
   "metadata": {},
   "outputs": [
    {
     "data": {
      "text/plain": [
       "185950"
      ]
     },
     "execution_count": 17,
     "metadata": {},
     "output_type": "execute_result"
    }
   ],
   "source": [
    "df.count()"
   ]
  },
  {
   "cell_type": "code",
   "execution_count": 16,
   "id": "ec9bf728",
   "metadata": {},
   "outputs": [],
   "source": [
    "df = df.dropDuplicates()"
   ]
  },
  {
   "cell_type": "code",
   "execution_count": 18,
   "id": "bbe6ee4b",
   "metadata": {},
   "outputs": [
    {
     "name": "stdout",
     "output_type": "stream",
     "text": [
      "root\n",
      " |-- _c0: integer (nullable = true)\n",
      " |-- Order ID: integer (nullable = true)\n",
      " |-- Product: string (nullable = true)\n",
      " |-- Quantity Ordered: integer (nullable = true)\n",
      " |-- Price Each: double (nullable = true)\n",
      " |-- Order Date: string (nullable = true)\n",
      " |-- Purchase Address: string (nullable = true)\n",
      " |-- Month: integer (nullable = true)\n",
      " |-- Sales: double (nullable = false)\n",
      " |-- City: string (nullable = true)\n",
      " |-- Hour: integer (nullable = true)\n",
      "\n"
     ]
    }
   ],
   "source": [
    "df.printSchema()"
   ]
  },
  {
   "cell_type": "code",
   "execution_count": 8,
   "id": "f5f31bd7",
   "metadata": {},
   "outputs": [
    {
     "name": "stdout",
     "output_type": "stream",
     "text": [
      "root\n",
      " |-- _c0: integer (nullable = true)\n",
      " |-- Order ID: integer (nullable = true)\n",
      " |-- Product: string (nullable = true)\n",
      " |-- Quantity Ordered: integer (nullable = true)\n",
      " |-- Price Each: double (nullable = true)\n",
      " |-- Order Date: string (nullable = true)\n",
      " |-- Purchase Address: string (nullable = true)\n",
      " |-- Month: integer (nullable = true)\n",
      " |-- Sales: double (nullable = true)\n",
      " |-- City: string (nullable = true)\n",
      " |-- Hour: integer (nullable = true)\n",
      "\n"
     ]
    }
   ],
   "source": [
    "df = df.withColumn(\"Quantity Ordered\", col(\"Quantity Ordered\").cast(\"integer\")).withColumn(\"Price Each\", col(\"Price Each\").cast(\"double\")).withColumn(\"Sales\", col(\"Sales\").cast(\"double\"))\n",
    "df.printSchema()"
   ]
  },
  {
   "cell_type": "code",
   "execution_count": 10,
   "id": "5d49038d",
   "metadata": {},
   "outputs": [],
   "source": [
    "df = df.filter((col(\"Sales\") >= 0) & (col(\"Price Each\") >= 0) & (col(\"Quantity Ordered\") >= 0))"
   ]
  },
  {
   "cell_type": "code",
   "execution_count": 21,
   "id": "cb2ed260",
   "metadata": {},
   "outputs": [
    {
     "data": {
      "text/plain": [
       "185950"
      ]
     },
     "execution_count": 21,
     "metadata": {},
     "output_type": "execute_result"
    }
   ],
   "source": [
    "df.count()"
   ]
  },
  {
   "cell_type": "code",
   "execution_count": 24,
   "id": "1d0645ae",
   "metadata": {},
   "outputs": [
    {
     "name": "stdout",
     "output_type": "stream",
     "text": [
      "+--------------------+------------------+\n",
      "|             Product|       Total Sales|\n",
      "+--------------------+------------------+\n",
      "|    Wired Headphones|246651.93375999868|\n",
      "|  Macbook Pro Laptop|         8037600.0|\n",
      "|Apple Airpods Hea...|         2349150.0|\n",
      "|              iPhone|         4794300.0|\n",
      "|Lightning Chargin...|347094.15000000864|\n",
      "|Bose SoundSport H...|1345565.4300000193|\n",
      "|USB-C Charging Cable|286674.79376000515|\n",
      "|AAA Batteries (4-...| 92740.82999999696|\n",
      "|        20in Monitor|454148.71000000136|\n",
      "|    27in FHD Monitor|1132424.5000000084|\n",
      "|     Vareebadd Phone|          827200.0|\n",
      "|34in Ultrawide Mo...|  2355558.00999999|\n",
      "|            LG Dryer|          387600.0|\n",
      "|AA Batteries (4-p...| 106300.0537599985|\n",
      "|        Google Phone|         3319200.0|\n",
      "|       Flatscreen TV|         1445700.0|\n",
      "|  LG Washing Machine|          399600.0|\n",
      "|27in 4K Gaming Mo...| 2435097.559999989|\n",
      "|     ThinkPad Laptop|4129958.6999999797|\n",
      "+--------------------+------------------+\n",
      "\n"
     ]
    }
   ],
   "source": [
    "total_sales_by_product = df.groupBy(\"Product\").agg(sum(\"Sales\").alias(\"Total Sales\"))\n",
    "total_sales_by_product.show()"
   ]
  },
  {
   "cell_type": "code",
   "execution_count": 26,
   "id": "625e9697",
   "metadata": {},
   "outputs": [],
   "source": [
    "output_path= \"Sales data.csv\"\n",
    "pandas_df = df.toPandas()\n",
    "pandas_df.to_csv(output_path, index=False)"
   ]
  },
  {
   "cell_type": "code",
   "execution_count": 35,
   "id": "b55f9c37",
   "metadata": {},
   "outputs": [
    {
     "name": "stdout",
     "output_type": "stream",
     "text": [
      "_c0                 0\n",
      "Order ID            0\n",
      "Product             0\n",
      "Quantity Ordered    0\n",
      "Price Each          0\n",
      "Order Date          0\n",
      "Purchase Address    0\n",
      "Month               0\n",
      "Sales               0\n",
      "City                0\n",
      "Hour                0\n",
      "dtype: int64\n"
     ]
    }
   ],
   "source": [
    "print(pandas_df.isnull().sum())"
   ]
  },
  {
   "cell_type": "code",
   "execution_count": null,
   "id": "e4e13f51",
   "metadata": {},
   "outputs": [],
   "source": []
  }
 ],
 "metadata": {
  "kernelspec": {
   "display_name": "gpu",
   "language": "python",
   "name": "gpu"
  },
  "language_info": {
   "codemirror_mode": {
    "name": "ipython",
    "version": 3
   },
   "file_extension": ".py",
   "mimetype": "text/x-python",
   "name": "python",
   "nbconvert_exporter": "python",
   "pygments_lexer": "ipython3",
   "version": "3.9.16"
  }
 },
 "nbformat": 4,
 "nbformat_minor": 5
}
