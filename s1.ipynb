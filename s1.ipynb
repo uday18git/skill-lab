{
 "cells": [
  {
   "cell_type": "code",
   "execution_count": 1,
   "id": "f7ae2c2d",
   "metadata": {},
   "outputs": [],
   "source": [
    "from pyspark.sql import SparkSession\n",
    "from pyspark.sql.functions import *\n",
    "import pandas as pd"
   ]
  },
  {
   "cell_type": "code",
   "execution_count": 2,
   "id": "877ca343",
   "metadata": {},
   "outputs": [
    {
     "name": "stdout",
     "output_type": "stream",
     "text": [
      "root\n",
      " |-- EmpID: integer (nullable = true)\n",
      " |-- FirstName: string (nullable = true)\n",
      " |-- LastName: string (nullable = true)\n",
      " |-- StartDate: string (nullable = true)\n",
      " |-- ExitDate: string (nullable = true)\n",
      " |-- Title: string (nullable = true)\n",
      " |-- Supervisor: string (nullable = true)\n",
      " |-- BusinessUnit: string (nullable = true)\n",
      " |-- EmployeeStatus: string (nullable = true)\n",
      " |-- EmployeeType: string (nullable = true)\n",
      " |-- PayZone: string (nullable = true)\n",
      " |-- EmployeeClassificationType: string (nullable = true)\n",
      " |-- TerminationType: string (nullable = true)\n",
      " |-- DepartmentType: string (nullable = true)\n",
      " |-- Division: string (nullable = true)\n",
      " |-- DOB: string (nullable = true)\n",
      " |-- State: string (nullable = true)\n",
      " |-- JobFunctionDescription: string (nullable = true)\n",
      " |-- GenderCode: string (nullable = true)\n",
      " |-- LocationCode: integer (nullable = true)\n",
      " |-- RaceDesc: string (nullable = true)\n",
      " |-- MaritalDesc: string (nullable = true)\n",
      " |-- Performance Score: string (nullable = true)\n",
      " |-- Current Employee Rating: integer (nullable = true)\n",
      " |-- FormattedDate: string (nullable = true)\n",
      "\n",
      "+-----+---------+--------------+---------+---------+--------------------+--------------------+------------+----------------+------------+-------+--------------------------+---------------+-----------------+--------------------+----------+-----+----------------------+----------+------------+--------+-----------+-----------------+-----------------------+-------------+\n",
      "|EmpID|FirstName|      LastName|StartDate| ExitDate|               Title|          Supervisor|BusinessUnit|  EmployeeStatus|EmployeeType|PayZone|EmployeeClassificationType|TerminationType|   DepartmentType|            Division|       DOB|State|JobFunctionDescription|GenderCode|LocationCode|RaceDesc|MaritalDesc|Performance Score|Current Employee Rating|FormattedDate|\n",
      "+-----+---------+--------------+---------+---------+--------------------+--------------------+------------+----------------+------------+-------+--------------------------+---------------+-----------------+--------------------+----------+-----+----------------------+----------+------------+--------+-----------+-----------------+-----------------------+-------------+\n",
      "| 3461|  Lincoln|       Compton|18-Jul-19|01-Oct-21|  Area Sales Manager|        Tammy Conner|          EW|    Future Start|   Full-Time| Zone C|                 Part-Time|    Resignation|            Sales|       General - Con|29-12-1997|   CO|               Foreman|      Male|       78046|Hispanic|    Married|Needs Improvement|                      1|   18/07/2019|\n",
      "| 3736|   Carsen|       Wheeler|18-Oct-20|22-Mar-23|Production Techni...|       Kimberly Soto|         SVG|          Active|   Full-Time| Zone A|                 Part-Time|    Resignation|Production       |Wireline Construc...|02-07-1976|   MA|               Laborer|      Male|       95345|   Other|    Married|      Fully Meets|                      2|   18/10/2020|\n",
      "| 3928|  Audrina|            Yu|27-Jan-21|18-Oct-21|    Network Engineer|       Walter Powell|         TNS|          Active|   Full-Time| Zone A|                 Temporary|    Resignation|            IT/IS|       General - Con|11-07-1956|   MA|               Laborer|      Male|       59834|   White|    Widowed|      Fully Meets|                      3|   27/01/2021|\n",
      "| 3574|     Anna|Von Massenbach|18-May-21|04-Jan-22|Production Techni...|      Timothy Weaver|         WBL|    Future Start|    Contract| Zone B|                 Full-Time|    Involuntary|Production       |         Underground|06-05-1951|   MA|               Laborer|    Female|        2124|Hispanic|    Widowed|      Fully Meets|                      1|   18/05/2021|\n",
      "| 3883|    Noemi|        Brewer|06-May-22|26-Sep-22|          IT Support|      Jacob Hamilton|         BPC|          Active|    Contract| Zone B|                 Full-Time|    Involuntary|            IT/IS|    Field Operations|16-06-1991|   MA|         Administrator|    Female|       11294|   White|    Widowed|      Fully Meets|                      3|   06/05/2022|\n",
      "| 3847|  Gilbert|         Klein|24-Feb-19|11-Jun-20|          IT Support|   Gregory Rodriguez|          PL|          Active|   Part-Time| Zone B|                 Temporary|     Retirement|            IT/IS|    Field Operations|06-09-1998|   MA|               Laborer|      Male|       53800|Hispanic|     Single|      Fully Meets|                      3|   24/02/2019|\n",
      "| 3879|     Liam|         Hanna|08-Feb-19|24-Feb-23|    Network Engineer|       Brian Aguirre|         PYZ|          Active|   Full-Time| Zone C|                 Part-Time|    Involuntary|            IT/IS|    Field Operations|13-01-1996|   MA|                 Clerk|      Male|       16655|Hispanic|    Married|      Fully Meets|                      3|   08/02/2019|\n",
      "| 3893|    Lukas|       Freeman|22-Mar-23|28-Jul-23|          IT Support|     Allison Shannon|          EW|          Active|   Full-Time| Zone B|                 Part-Time|    Involuntary|            IT/IS|       General - Con|15-04-1953|   MA|               Laborer|    Female|       68298|   Asian|    Married|      Fully Meets|                      3|   22/03/2023|\n",
      "| 3820|    Anita|       Shepard|11-Aug-18|21-May-21|    Network Engineer|         George Tran|          EW|          Active|    Contract| Zone C|                 Full-Time|      Voluntary|            IT/IS|       General - Con|29-09-1976|   MA|               Foreman|    Female|        1773|   Other|   Divorced|      Fully Meets|                      3|   11/08/2018|\n",
      "| 3592|    Andre|        Guzman|05-Oct-21|18-Jun-22|Production Techni...|Mrs. Audrey Gonza...|         TNS|    Future Start|    Contract| Zone B|                 Full-Time|      Voluntary|Production       |    Field Operations|23-12-1998|   MA|            Technician|      Male|        9454|   Other|     Single|      Fully Meets|                      3|   05/10/2021|\n",
      "| 3703|  Addisyn|      Guerrero|31-Aug-20|26-Jun-22|Production Techni...|            Cory Lee|          EW|          Active|   Part-Time| Zone A|                 Part-Time|    Resignation|Production       |           Engineers|15-02-1951|   MA|              Engineer|    Female|       87563|   White|    Widowed|          Exceeds|                      4|   31/08/2020|\n",
      "| 3525|  Clayton|     Mccormick|03-Jul-22|10-Jan-23|  Area Sales Manager|      Stephanie Duke|         MSC|    Future Start|    Contract| Zone B|                 Temporary|     Retirement|            Sales|       General - Con|29-01-1967|   TX|               Foreman|      Male|       72264|Hispanic|     Single|      Fully Meets|                      2|   03/07/2022|\n",
      "| 3814|    Jyoti|        Lajiri|07-Jan-19|05-Sep-20|Sr. Network Engineer|      Karen Crawford|          EW|Leave of Absence|   Part-Time| Zone C|                 Full-Time|     Retirement|            IT/IS|           Engineers|17-04-1955|   MA|           Coordinator|      Male|        2169|   Black|    Widowed|      Fully Meets|                      3|   07/01/2019|\n",
      "| 3822|  Katrina|       Lambert|24-Sep-19|04-Apr-22|    Network Engineer|   Calvin Williamson|         WBL|          Active|   Full-Time| Zone B|                 Part-Time|     Retirement| Executive Office|       General - Con|18-09-1975|   MA|            Technician|      Male|       56727|Hispanic|   Divorced|      Fully Meets|                      3|   24/09/2019|\n",
      "| 3766|    Elisa|         Henry|02-Feb-19|03-Feb-23|Production Techni...|       Taylor Morris|         PYZ|          Active|   Part-Time| Zone A|                 Part-Time|    Resignation|Production       |Yard (Material Ha...|10-03-1943|   MA|               Manager|    Female|       10110|   Black|    Widowed|      Fully Meets|                      3|   02/02/2019|\n",
      "| 3807|    Mayra|          Moss|15-Sep-21|10-Nov-21|Production Techni...|        George Doyle|          EW|          Active|    Contract| Zone C|                 Temporary|    Resignation|Production       |Project Managemen...|16-05-1964|   MA|               Manager|      Male|       84074|   Asian|     Single|      Fully Meets|                      3|   15/09/2021|\n",
      "| 3512|   Tyrone|          Sosa|17-Apr-23|22-Jun-23|  Area Sales Manager|       Lindsay Chang|         NEL|    Future Start|    Contract| Zone C|                 Temporary|      Voluntary|            Sales|Yard (Material Ha...|25-10-1996|   TX|           Coordinator|    Female|       58860|   Black|     Single|      Fully Meets|                      2|   17/04/2023|\n",
      "| 3541|    Aaron|         Weber|06-Apr-20|24-Jul-23|  Area Sales Manager|      Melanie Garcia|         SVG|          Active|   Full-Time| Zone B|                 Full-Time|    Involuntary|            Sales|    Field Operations|27-10-1991|   IN|            Technician|      Male|       78938|   Black|    Married|          Exceeds|                      2|   06/04/2020|\n",
      "| 3675|    Mario|          Mays|08-Jun-20|29-Dec-22|Production Techni...|      Melissa Torres|        CCDR|          Active|   Full-Time| Zone C|                 Full-Time|    Resignation|Production       |           Engineers|28-08-1952|   MA|            Technician|    Female|       70090|Hispanic|   Divorced|      Fully Meets|                      3|   08/06/2020|\n",
      "| 3518|  Roberto|       Michael|10-Apr-21|04-Jul-22|  Area Sales Manager|        Cheryl Henry|         MSC|          Active|    Contract| Zone B|                 Part-Time|    Involuntary|            Sales|       General - Eng|24-05-1969|   CA|           Coordinator|    Female|       13249|Hispanic|    Married|      Fully Meets|                      2|   10/04/2021|\n",
      "+-----+---------+--------------+---------+---------+--------------------+--------------------+------------+----------------+------------+-------+--------------------------+---------------+-----------------+--------------------+----------+-----+----------------------+----------+------------+--------+-----------+-----------------+-----------------------+-------------+\n",
      "only showing top 20 rows\n",
      "\n"
     ]
    }
   ],
   "source": [
    "spark = SparkSession.builder.appName(\"test\").getOrCreate()\n",
    "filepath = \"emp_data.csv\"\n",
    "df = spark.read.csv(filepath , header=True,inferSchema=True)\n",
    "df.printSchema()\n",
    "df.show()"
   ]
  },
  {
   "cell_type": "code",
   "execution_count": 4,
   "id": "b0c027fd",
   "metadata": {},
   "outputs": [
    {
     "name": "stdout",
     "output_type": "stream",
     "text": [
      "+-----+---------+--------+---------+--------+-----+----------+------------+--------------+------------+-------+--------------------------+---------------+--------------+--------+---+-----+----------------------+----------+------------+--------+-----------+-----------------+-----------------------+-------------+\n",
      "|EmpID|FirstName|LastName|StartDate|ExitDate|Title|Supervisor|BusinessUnit|EmployeeStatus|EmployeeType|PayZone|EmployeeClassificationType|TerminationType|DepartmentType|Division|DOB|State|JobFunctionDescription|GenderCode|LocationCode|RaceDesc|MaritalDesc|Performance Score|Current Employee Rating|FormattedDate|\n",
      "+-----+---------+--------+---------+--------+-----+----------+------------+--------------+------------+-------+--------------------------+---------------+--------------+--------+---+-----+----------------------+----------+------------+--------+-----------+-----------------+-----------------------+-------------+\n",
      "|    0|        0|       0|        0|     263|    0|         0|           0|             0|           0|      0|                         0|              0|             0|       0|  0|    0|                     0|         0|           0|       0|          0|                0|                      0|            0|\n",
      "+-----+---------+--------+---------+--------+-----+----------+------------+--------------+------------+-------+--------------------------+---------------+--------------+--------+---+-----+----------------------+----------+------------+--------+-----------+-----------------+-----------------------+-------------+\n",
      "\n"
     ]
    }
   ],
   "source": [
    "#to check null values for each \n",
    "df.select([count(when(isnull(c) | isnan(c) , c) ).alias(c) for c in df.columns]).show()"
   ]
  },
  {
   "cell_type": "code",
   "execution_count": 5,
   "id": "15ce66ee",
   "metadata": {},
   "outputs": [
    {
     "name": "stdout",
     "output_type": "stream",
     "text": [
      "root\n",
      " |-- EmpID: integer (nullable = true)\n",
      " |-- FirstName: string (nullable = true)\n",
      " |-- LastName: string (nullable = true)\n",
      " |-- StartDate: string (nullable = true)\n",
      " |-- ExitDate: string (nullable = true)\n",
      " |-- Title: string (nullable = true)\n",
      " |-- Supervisor: string (nullable = true)\n",
      " |-- BusinessUnit: string (nullable = true)\n",
      " |-- EmployeeStatus: string (nullable = true)\n",
      " |-- EmployeeType: string (nullable = true)\n",
      " |-- PayZone: string (nullable = true)\n",
      " |-- EmployeeClassificationType: string (nullable = true)\n",
      " |-- TerminationType: string (nullable = true)\n",
      " |-- DepartmentType: string (nullable = true)\n",
      " |-- Division: string (nullable = true)\n",
      " |-- DOB: string (nullable = true)\n",
      " |-- State: string (nullable = true)\n",
      " |-- JobFunctionDescription: string (nullable = true)\n",
      " |-- GenderCode: string (nullable = true)\n",
      " |-- LocationCode: integer (nullable = true)\n",
      " |-- RaceDesc: string (nullable = true)\n",
      " |-- MaritalDesc: string (nullable = true)\n",
      " |-- Performance Score: string (nullable = true)\n",
      " |-- Current Employee Rating: integer (nullable = true)\n",
      " |-- FormattedDate: string (nullable = true)\n",
      "\n"
     ]
    }
   ],
   "source": [
    "df.printSchema()"
   ]
  },
  {
   "cell_type": "code",
   "execution_count": 8,
   "id": "25d4a79f",
   "metadata": {},
   "outputs": [],
   "source": [
    "#1\n",
    "df = df.withColumn(\"LastName\",when(isnull(col(\"LastName\") ), \"Unknown\").otherwise(col(\"LastName\")))\n",
    "df = df.dropna(subset = [\"EmpID\", \"StartDate\"])"
   ]
  },
  {
   "cell_type": "code",
   "execution_count": 11,
   "id": "c62bb064",
   "metadata": {},
   "outputs": [
    {
     "data": {
      "text/plain": [
       "552"
      ]
     },
     "execution_count": 11,
     "metadata": {},
     "output_type": "execute_result"
    }
   ],
   "source": [
    "df.count()"
   ]
  },
  {
   "cell_type": "code",
   "execution_count": 15,
   "id": "26489ce0",
   "metadata": {},
   "outputs": [
    {
     "name": "stdout",
     "output_type": "stream",
     "text": [
      "+------------+\n",
      "|LocationCode|\n",
      "+------------+\n",
      "|        2122|\n",
      "|       97413|\n",
      "|       80424|\n",
      "|       56687|\n",
      "|       75321|\n",
      "|       49449|\n",
      "|        1460|\n",
      "|       78046|\n",
      "|        9454|\n",
      "|       44553|\n",
      "|        8779|\n",
      "|       29811|\n",
      "|       57754|\n",
      "|       65321|\n",
      "|       39859|\n",
      "|       74388|\n",
      "|       31207|\n",
      "|       34011|\n",
      "|       49914|\n",
      "|       60107|\n",
      "+------------+\n",
      "only showing top 20 rows\n",
      "\n"
     ]
    }
   ],
   "source": [
    "#2 remove outliers\n",
    "# Cap current empliyee rating between 1 and 5\n",
    "df = df.withColumn(\"Current Employee Rating\", when(col(\"Current Employee Rating\")<1,1).when(col(\"Current Employee Rating\")>4,4).otherwise(col(\"Current Employee Rating\")))\n",
    "\n",
    "df.select(\"LocationCode\").distinct().show()"
   ]
  },
  {
   "cell_type": "code",
   "execution_count": 16,
   "id": "10f72fd0",
   "metadata": {},
   "outputs": [
    {
     "name": "stdout",
     "output_type": "stream",
     "text": [
      "+-----------------------+\n",
      "|Current Employee Rating|\n",
      "+-----------------------+\n",
      "|                      1|\n",
      "|                      3|\n",
      "|                      4|\n",
      "|                      2|\n",
      "+-----------------------+\n",
      "\n"
     ]
    }
   ],
   "source": [
    "#checking values of cer\n",
    "df.select(\"Current Employee Rating\").distinct().show()"
   ]
  },
  {
   "cell_type": "code",
   "execution_count": 17,
   "id": "a4bd0e77",
   "metadata": {},
   "outputs": [],
   "source": [
    "#3\n",
    "df=df.dropDuplicates()"
   ]
  },
  {
   "cell_type": "code",
   "execution_count": 18,
   "id": "b681adee",
   "metadata": {},
   "outputs": [
    {
     "data": {
      "text/plain": [
       "552"
      ]
     },
     "execution_count": 18,
     "metadata": {},
     "output_type": "execute_result"
    }
   ],
   "source": [
    "df.count()"
   ]
  },
  {
   "cell_type": "code",
   "execution_count": 19,
   "id": "b3d0b5ef",
   "metadata": {},
   "outputs": [
    {
     "name": "stdout",
     "output_type": "stream",
     "text": [
      "+--------------------+--------------------+-----+\n",
      "|trim(DepartmentType)|         trim(Title)|count|\n",
      "+--------------------+--------------------+-----+\n",
      "|               IT/IS|Principal Data Ar...|    8|\n",
      "|               IT/IS|        Data Analyst|   11|\n",
      "|          Production|Production Techni...|   61|\n",
      "|               IT/IS|Sr. Network Engineer|   30|\n",
      "|          Production|    Network Engineer|    1|\n",
      "|    Executive Office|    Network Engineer|   18|\n",
      "|               IT/IS|    Network Engineer|   22|\n",
      "|          Production|Production Techni...|    1|\n",
      "|          Production|Production Techni...|  190|\n",
      "|               IT/IS|      Data Architect|    2|\n",
      "|               IT/IS|  Area Sales Manager|    7|\n",
      "|               Sales|  Area Sales Manager|  119|\n",
      "|               IT/IS|Enterprise Architect|    5|\n",
      "|               IT/IS|          IT Support|   44|\n",
      "|               Sales| Area Sales Manager?|    1|\n",
      "|               Sales| Area Sales Manager.|    1|\n",
      "|               IT/IS|Software Engineer...|    1|\n",
      "|               IT/IS|      Sr. Accountant|    4|\n",
      "|               IT/IS|             Sr. DBA|    6|\n",
      "|               IT/IS|Database Administ...|   15|\n",
      "+--------------------+--------------------+-----+\n",
      "only showing top 20 rows\n",
      "\n"
     ]
    }
   ],
   "source": [
    "#4 count the number of employees for each department for every designation\n",
    "ans = df.groupBy(trim(\"DepartmentType\"),trim(\"Title\")).count()\n",
    "ans.show()"
   ]
  },
  {
   "cell_type": "code",
   "execution_count": 21,
   "id": "60d3f62f",
   "metadata": {},
   "outputs": [
    {
     "name": "stdout",
     "output_type": "stream",
     "text": [
      "+--------------------+-------------------+\n",
      "|                Dept|MaxPerformanceScore|\n",
      "+--------------------+-------------------+\n",
      "|               Sales|                  4|\n",
      "|          Production|                  4|\n",
      "|    Executive Office|                  3|\n",
      "|Software Engineering|                  3|\n",
      "|               IT/IS|                  4|\n",
      "+--------------------+-------------------+\n",
      "\n"
     ]
    }
   ],
   "source": [
    "#5 for each department find the employee with thte highest performance score\n",
    "ans = df.groupBy(trim(\"DepartmentType\").alias(\"Dept\")).agg(max(\"Current Employee Rating\").alias(\"MaxPerformanceScore\"))\n",
    "ans.show()"
   ]
  },
  {
   "cell_type": "code",
   "execution_count": null,
   "id": "0de8c028",
   "metadata": {},
   "outputs": [],
   "source": [
    "pandas_df = df.toPandas()\n",
    "pandas_df.to_csv(output_path,index=False)"
   ]
  }
 ],
 "metadata": {
  "kernelspec": {
   "display_name": "gpu",
   "language": "python",
   "name": "gpu"
  },
  "language_info": {
   "codemirror_mode": {
    "name": "ipython",
    "version": 3
   },
   "file_extension": ".py",
   "mimetype": "text/x-python",
   "name": "python",
   "nbconvert_exporter": "python",
   "pygments_lexer": "ipython3",
   "version": "3.9.16"
  }
 },
 "nbformat": 4,
 "nbformat_minor": 5
}
